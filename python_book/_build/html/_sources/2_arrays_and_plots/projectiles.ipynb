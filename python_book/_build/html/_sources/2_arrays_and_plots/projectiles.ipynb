{
 "cells": [
  {
   "attachments": {},
   "cell_type": "markdown",
   "metadata": {
    "collapsed": false
   },
   "source": [
    "# Projectiles\n",
    "\n",
    "```{attention}\n",
    "You should create a new new notebook file for this section.\n",
    "```\n",
    "\n",
    "Python is especially useful for modelling physical systems. We'll illustrate this with a simple example from mechanics: the motion of an object under gravity.\n",
    "\n",
    "```{figure} cannon.jpg\n",
    "---\n",
    "height: 150px\n",
    "name: cannon\n",
    "---\n",
    "A projectile fired horizontally from a cannon.\n",
    "```\n",
    "\n",
    "A projectile fired horizontally at a speed $v_0 = 5~\\mathrm{m/s}$ from an initial height $y_0 = 200~\\mathrm{m}$ follows a trajectory given by the following equations:\n",
    "\n",
    "$$\\begin{align*}x(t) &= v_0t\\\\\n",
    "y(t) &= y_0-\\frac{1}{2}gt^2\\end{align*}$$\n",
    "\n",
    "We will write a program which simulates the trajectory of the projectile. That is, we would like to calulate the $x$, $y$ position of the projectile at a given time $t$.\n",
    "\n",
    "Let's start by calculating and printing the $x$ position at $t=3~\\mathrm{s}$.\n",
    "\n",
    ":::{exercise}\n",
    ":label: question_trajectory\n",
    "Complete the following code so that it calculates and prints the x and y coordinates of the projectile at time `t = 3`.\n",
    "\n",
    "```\n",
    "import numpy as np\n",
    "\n",
    "# set values of constants\n",
    "\n",
    "v_0 = 5     # initial velocity\n",
    "y_0 = 200   # initial y position\n",
    "g = 9.81    # acceleration due to gravity\n",
    "\n",
    "t = 3\n",
    "\n",
    "# Calculate x and y\n",
    "```\n",
    ":::\n",
    "\n",
    ":::{solution} question_trajectory\n",
    ":class: dropdown\n",
    "```\n",
    "import numpy as np\n",
    "\n",
    "# set values of constants\n",
    "\n",
    "v_0 = 5     # initial velocity\n",
    "y_0 = 200   # initial y position\n",
    "g = 9.81    # acceleration due to gravity\n",
    "\n",
    "# calculate y at time t=3\n",
    "\n",
    "t = 3\n",
    "\n",
    "# Calculate x and y\n",
    "\n",
    "x = v_0 * t\n",
    "y = y_0 - 0.5 * g * t ** 2\n",
    "\n",
    "print(\"x (metres):\", x)\n",
    "print(\"y (metres):\", y)\n",
    "```\n",
    "\n",
    ":::"
   ]
  },
  {
   "attachments": {},
   "cell_type": "markdown",
   "metadata": {
    "collapsed": false
   },
   "source": [
    "By changing the value of `t` and re-running the code we could calculate the position of the projectile at any time we choose.\n",
    "\n",
    ":::{exercise}\n",
    ":label: question_trajectory_2\n",
    "\n",
    "Estimate the time the projectile reaches the ground by changing `t` until `y` is zero (to the nearest metre). Then check your answer by calculating the *exact* value of $t$ such that $y = 0~\\mathrm{m}$.\n",
    "\n",
    ":::\n",
    "\n",
    ":::{solution} question_trajectory_2\n",
    ":class: dropdown\n",
    "\n",
    "By trial and error, you should find that at $t = 6.4~\\mathrm{s}$ the absoluate value of $y$ is less than $1~\\mathrm{m}$.\n",
    "```\n",
    "import numpy as np\n",
    "\n",
    "# set values of constants\n",
    "\n",
    "v_0 = 5     # initial velocity\n",
    "y_0 = 200   # initial y position\n",
    "g = 9.81    # acceleration due to gravity\n",
    "\n",
    "# calculate y at time t=3\n",
    "\n",
    "t = 6.4\n",
    "\n",
    "# Calculate x and y\n",
    "\n",
    "x = v_0 * t\n",
    "y = y_0 - 0.5 * g * t ** 2\n",
    "\n",
    "print(\"x (metres):\", x)\n",
    "print(\"y (metres):\", y)\n",
    "```\n",
    "\n",
    "Inverting the relationship $0 = 200 - \\frac{1}{2}gt^2$ we find that $t = \\sqrt{400/9.81}~\\mathrm{s}\\approx 6.39~\\mathrm{s}$.\n",
    "\n",
    ":::"
   ]
  },
  {
   "attachments": {},
   "cell_type": "markdown",
   "metadata": {
    "collapsed": false
   },
   "source": [
    "Next we'd like to plot the projectile trajectory on a graph, which will require calculating `x` and `y` for a whole sequence of values of `t`. To do that, we will use an array.\n",
    "\n",
    ":::{exercise}\n",
    ":label: question_trajectory_3\n",
    "\n",
    "Complete the following code to calculate and print arrays `x` and `y` representing the $x$ and $y$ positions of the projectile between $t=0~\\mathrm{s}$ and $t=12~\\mathrm{s}$.\n",
    "\n",
    "```\n",
    "import numpy as np\n",
    "\n",
    "# set values of constants\n",
    "\n",
    "v_0 = 5     # initial velocity\n",
    "y_0 = 200   # initial y position\n",
    "g = 9.81    # acceleration due to gravity\n",
    "\n",
    "# create an array t containing 10 values between 0 and 12\n",
    "\n",
    "t = np.linspace(0, 12, 10)\n",
    "\n",
    "print(\"t (seconds):\", t)\n",
    "\n",
    "# calculate and print arrays x and y\n",
    "```\n",
    ":::\n",
    "\n",
    ":::{solution} question_trajectory_3\n",
    ":class: dropdown\n",
    "\n",
    "```\n",
    "import numpy as np\n",
    "\n",
    "# set values of constants\n",
    "\n",
    "v_0 = 5     # initial velocity\n",
    "y_0 = 200   # initial y position\n",
    "g = 9.81    # acceleration due to gravity\n",
    "\n",
    "# create an array t containing 10 values between 0 and 12\n",
    "\n",
    "t = np.linspace(0, 12, 10)\n",
    "\n",
    "x = v_0 * t\n",
    "y = y_0 - 0.5 * g * t ** 2\n",
    "\n",
    "print(\"t (seconds):\", t)\n",
    "print(\"x (metres):\", x)\n",
    "print(\"y (metres):\", y)\n",
    "```\n",
    "\n",
    ":::\n",
    "\n",
    ":::{admonition} Arrays\n",
    "The code `np.linspace(a, b, n)` creates an array of `n` evenly spaced numbers from `a` to `b`.\n",
    "```\n",
    "t = np.linspace(0, .9, 10)\n",
    "print(t)\n",
    "\n",
    "[0.  0.1 0.2 0.3 0.4 0.5 0.6 0.7 0.8 0.9]\n",
    "```\n",
    ":::"
   ]
  },
  {
   "attachments": {},
   "cell_type": "markdown",
   "metadata": {
    "collapsed": false
   },
   "source": [
    "Finally, let's use `matplotlib` to plot the x-y trajectory of the projectile on a line graph.\n",
    "\n",
    ":::{exercise}\n",
    ":label: question_trajectory_4\n",
    "\n",
    "Complete the following code to plot the x- and y-coordinates of the projectile. Include a suitable title and x- and y-axis labels.\n",
    "\n",
    "```\n",
    "import matplotlib.pyplot as plt\n",
    "\n",
    "plt.figure(figsize=(5,5))\n",
    "\n",
    "```\n",
    ":::\n",
    "\n",
    ":::{solution} question_trajectory_4\n",
    ":class: dropdown\n",
    "\n",
    "```\n",
    "import matplotlib.pyplot as plt\n",
    "\n",
    "plt.figure(figsize=(5,5))\n",
    "plt.plot(x, y)\n",
    "plt.title(\"Trajectory of projectile\")\n",
    "plt.xlabel(\"x (m)\")\n",
    "plt.xlabel(\"y (m)\")\n",
    "```\n",
    "\n",
    ":::"
   ]
  },
  {
   "attachments": {},
   "cell_type": "markdown",
   "metadata": {
    "collapsed": false
   },
   "source": [
    "First, we imported another package `matplotlib.pyplot` which contains useful plotting functions. We then created a 5 by 5 figure and finally plotted `x` and `y` on the x- and y-axes respectively.\n",
    "\n",
    ":::{exercise}\n",
    ":label: question_trajectory_5\n",
    "\n",
    "Plot two more graphs: `x` against `t` and `y` against `t`. Make sure each is on a separate set of axes!\n",
    "\n",
    ":::\n",
    "\n",
    ":::{solution} question_trajectory_5\n",
    ":class: dropdown\n",
    "\n",
    "```\n",
    "import matplotlib.pyplot as plt\n",
    "\n",
    "plt.figure(figsize=(5,5))\n",
    "plt.plot(x, y)\n",
    "plt.title(\"Trajectory of projectile\")\n",
    "plt.xlabel(\"x (m)\")\n",
    "plt.xlabel(\"y (m)\")\n",
    "\n",
    "plt.figure(figsize=(5,5))\n",
    "plt.plot(t, x)\n",
    "plt.title(\"Trajectory of projectile\")\n",
    "plt.xlabel(\"t (s)\")\n",
    "plt.xlabel(\"x (m)\")\n",
    "\n",
    "plt.figure(figsize=(5,5))\n",
    "plt.plot(t, y)\n",
    "plt.title(\"Trajectory of projectile\")\n",
    "plt.xlabel(\"t (s)\")\n",
    "plt.xlabel(\"y (m)\")\n",
    "```"
   ]
  },
  {
   "attachments": {},
   "cell_type": "markdown",
   "metadata": {
    "collapsed": false
   },
   "source": [
    "## Animation (Optional but Fun)\n",
    "\n",
    "Our last step is to generate an animation of the projectile trajectory. The code to achieve this is shown below, but we won't study it in detail."
   ]
  },
  {
   "cell_type": "code",
   "execution_count": null,
   "metadata": {
    "collapsed": false,
    "tags": [
     "remove-output"
    ]
   },
   "outputs": [
    {
     "data": {
      "text/html": [
       "<img src=\"animation.gif?1463553089\">"
      ],
      "text/plain": [
       "<IPython.core.display.HTML object>"
      ]
     },
     "execution_count": 5,
     "metadata": {},
     "output_type": "execute_result"
    }
   ],
   "source": [
    "from matplotlib import animation\n",
    "from IPython.display import HTML, display\n",
    "import random\n",
    "\n",
    "filename = \"animation.gif\"\n",
    "# Number of animation frames equals the length of time array t\n",
    "frames = len(t)\n",
    "interval = 100\n",
    "\n",
    "def ganimate(frame):\n",
    "    plt.cla()\n",
    "    plt.scatter(t[frame], y[frame])\n",
    "    plt.xlim(0, 10)\n",
    "    plt.ylim(0, 200)\n",
    "    \n",
    "fig = plt.figure(figsize=(5, 5))\n",
    "anim = animation.FuncAnimation(fig, ganimate, frames=frames, interval=interval)\n",
    "anim.save(filename, writer='imagemagick')\n",
    "plt.close()\n",
    "\n",
    "__counter__ = str(random.randint(0,2e9))\n",
    "display(HTML('<img src=\"' + filename + '?' + __counter__ + '\">'))"
   ]
  },
  {
   "attachments": {},
   "cell_type": "markdown",
   "metadata": {
    "collapsed": false
   },
   "source": [
    "![](animation.gif)"
   ]
  },
  {
   "attachments": {},
   "cell_type": "markdown",
   "metadata": {
    "collapsed": false
   },
   "source": [
    "The key line is `plt.scatter(t[frame], y[frame])` which plots points from the arrays `t` and `y`.\n",
    "\n",
    "The lines `plt.xlim(0, 10)` and `plt.ylim(0, 200)` specify the limits of the x- and y-axes respectively.\n",
    "\n",
    "> Copy this code and change it so that it plots the $x, y$ position of the projectile (you will also need to change the x-axis limits)."
   ]
  },
  {
   "attachments": {},
   "cell_type": "markdown",
   "metadata": {
    "collapsed": false
   },
   "source": [
    "## Virtual Orrery (Optional)\n",
    "\n",
    "An [orrery](https://en.wikipedia.org/wiki/Orrery) is a mechanical device which simulates the motions of heavenly bodies in the Solar System. Your goal is to construct a virtual orrery using Python, a little like the one [here](https://www.schoolsobservatory.org/learn/astro/solsys/orrery/orr_go). This task is open-ended, and you are unlikely to complete the whole Solar System; just see how far you can get!\n",
    "\n",
    "Assuming (incorrectly!) that planets follow circular orbits, we can use the following equations to simulation their motion:\n",
    "\n",
    "$$ x(t) = d\\cos(2\\pi t/p) \\\\\n",
    "y(t) = d\\sin(2\\pi t/p)$$\n",
    "\n",
    "where $t$ is time in (Earth) days, $d$ is orbital diameter and $p$ is the orbital period in (Earth) days. Values of these parameters can be found in the following link:\n",
    "\n",
    "http://www.astronomynotes.com/tables/tablesb.htm\n",
    "\n",
    "First, simulate the orbit of the Earth around the sun for. Use `np.arange` to generate an array of 365 days, then calculate `x` and `y` arrays using the equations above. You will need to use the `numpy` functions `np.cos`, `np.sin` and constant `np.pi`. For `d` and `p` use the values in the link above. Plot the orbit on a graph, and animate it.\n",
    "\n",
    "Next, you could add in the orbits of Mercury and Venus. You will need to introduce new variables for the x and y position of these planets, you could call them `x_mercury`, `y_mercury` and so on.\n",
    "\n",
    "Simulating the moon's orbit is interesting: the orbit of the moon is relative to Earth, so you will have to add its arrays to the Earth's arrays."
   ]
  }
 ],
 "metadata": {
  "kernelspec": {
   "display_name": "Python 3 (system-wide)",
   "language": "python",
   "metadata": {
    "cocalc": {
     "description": "Python 3 programming language",
     "priority": 100,
     "url": "https://www.python.org/"
    }
   },
   "name": "python3",
   "resource_dir": "/ext/jupyter/kernels/python3"
  },
  "language_info": {
   "codemirror_mode": {
    "name": "ipython",
    "version": 3
   },
   "file_extension": ".py",
   "mimetype": "text/x-python",
   "name": "python",
   "nbconvert_exporter": "python",
   "pygments_lexer": "ipython3",
   "version": "3.7.9"
  }
 },
 "nbformat": 4,
 "nbformat_minor": 4
}
