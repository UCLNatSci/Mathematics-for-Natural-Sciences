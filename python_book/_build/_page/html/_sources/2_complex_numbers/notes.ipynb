{
 "cells": [
  {
   "attachments": {},
   "cell_type": "markdown",
   "metadata": {},
   "source": [
    "# Complex Numbers\n",
    "\n",
    "This worksheet will explain how to use Python to:\n",
    "\n",
    "- do arithmetic with complex numbers;\n",
    "- plot complex numbers on an Argand diagram.\n",
    "\n",
    "Before we do anything else, let's import the two libraries Numpy (for mathematics) and Matplotlib (for plotting graphs). You should get in the habit of including these two statements at the top of every notebook:"
   ]
  },
  {
   "cell_type": "code",
   "execution_count": 54,
   "metadata": {},
   "outputs": [],
   "source": [
    "import numpy as np\n",
    "import matplotlib.pyplot as plt"
   ]
  },
  {
   "attachments": {},
   "cell_type": "markdown",
   "metadata": {},
   "source": [
    "## Complex Arithmetic\n",
    "\n",
    "The quickest way to define a complex number is by typing it directly into the code following the pattern `5 + 6j`. In class we will always use the symbol $i$ to denote the imaginary number $\\sqrt{-1}$, but in Python we use the symbol `j` instead of `i`! Lets set a variable `z` to the value $5 + 6i$:"
   ]
  },
  {
   "cell_type": "code",
   "execution_count": 39,
   "metadata": {},
   "outputs": [],
   "source": [
    "z = 5 + 6j"
   ]
  },
  {
   "attachments": {},
   "cell_type": "markdown",
   "metadata": {},
   "source": [
    "Note that we must always include the value of the imaginary part, even if it is equal to `1`. Suppose we would like to create a variable `w` with the value $1 + i$. The following doesn't work because Python thinks that `j` is the name of a variable:"
   ]
  },
  {
   "cell_type": "code",
   "execution_count": 40,
   "metadata": {},
   "outputs": [
    {
     "ename": "NameError",
     "evalue": "name 'j' is not defined",
     "output_type": "error",
     "traceback": [
      "\u001b[1;31m---------------------------------------------------------------------------\u001b[0m",
      "\u001b[1;31mNameError\u001b[0m                                 Traceback (most recent call last)",
      "\u001b[1;32m~\\AppData\\Local\\Temp\\ipykernel_17164\\3893006300.py\u001b[0m in \u001b[0;36m<module>\u001b[1;34m\u001b[0m\n\u001b[1;32m----> 1\u001b[1;33m \u001b[0mw\u001b[0m \u001b[1;33m=\u001b[0m \u001b[1;36m1\u001b[0m \u001b[1;33m+\u001b[0m \u001b[0mj\u001b[0m\u001b[1;33m\u001b[0m\u001b[1;33m\u001b[0m\u001b[0m\n\u001b[0m",
      "\u001b[1;31mNameError\u001b[0m: name 'j' is not defined"
     ]
    }
   ],
   "source": [
    "w = 1 + j"
   ]
  },
  {
   "attachments": {},
   "cell_type": "markdown",
   "metadata": {},
   "source": [
    "We must do the following instead:"
   ]
  },
  {
   "cell_type": "code",
   "execution_count": 41,
   "metadata": {},
   "outputs": [],
   "source": [
    "w = 1 + 1j"
   ]
  },
  {
   "attachments": {},
   "cell_type": "markdown",
   "metadata": {},
   "source": [
    "Arithmetic with complex numbers is easy since we use the usual symbols `+`, `-`, `*`, `/` and `**` for addition, subtraction, multiplication, division and powers.\n",
    "\n",
    "For example, let's calculate $z^2$:"
   ]
  },
  {
   "cell_type": "code",
   "execution_count": 42,
   "metadata": {},
   "outputs": [
    {
     "data": {
      "text/plain": [
       "(-11+60j)"
      ]
     },
     "execution_count": 42,
     "metadata": {},
     "output_type": "execute_result"
    }
   ],
   "source": [
    "z ** 2"
   ]
  },
  {
   "attachments": {},
   "cell_type": "markdown",
   "metadata": {},
   "source": [
    "Suppose we would like to create a complex number $u = \\frac{\\pi}{2}i$. We can calculate this by multipling the complex number `1j` by `np.pi/2`:"
   ]
  },
  {
   "cell_type": "code",
   "execution_count": 46,
   "metadata": {},
   "outputs": [],
   "source": [
    "u = 1j * np.pi/4"
   ]
  },
  {
   "attachments": {},
   "cell_type": "markdown",
   "metadata": {},
   "source": [
    "Another important operation is complex exponention, which we can calculate using the Numpy function `np.exp`. Make sure you import the `numpy` library before trying to use the function. Let's calculate $e^{i\\pi/4}$:"
   ]
  },
  {
   "cell_type": "code",
   "execution_count": 47,
   "metadata": {},
   "outputs": [
    {
     "data": {
      "text/plain": [
       "(0.7071067811865476+0.7071067811865476j)"
      ]
     },
     "execution_count": 47,
     "metadata": {},
     "output_type": "execute_result"
    }
   ],
   "source": [
    "np.exp(1j * np.pi/4)"
   ]
  },
  {
   "attachments": {},
   "cell_type": "markdown",
   "metadata": {},
   "source": [
    "Finally, given a complex number we can extract its real and imaginary parts. This will be important in the next section when we want to plot complex numbers on an Argand diagram.\n",
    "\n",
    "What are the real and imaginary parts of $e^{i\\pi/4}$?"
   ]
  },
  {
   "cell_type": "code",
   "execution_count": 53,
   "metadata": {},
   "outputs": [
    {
     "name": "stdout",
     "output_type": "stream",
     "text": [
      "Real part: 0.7071067811865476\n",
      "Imaginary part: 0.7071067811865476\n"
     ]
    }
   ],
   "source": [
    "z = np.exp(1j * np.pi/4)\n",
    "x = z.real\n",
    "y = z.imag\n",
    "\n",
    "print(\"Real part:\", x)\n",
    "print(\"Imaginary part:\", y)"
   ]
  },
  {
   "attachments": {},
   "cell_type": "markdown",
   "metadata": {},
   "source": [
    "### Question\n",
    "\n",
    "Let $z = e^{i\\pi/4}$.\n",
    "\n",
    "Calculate $z$, $z^2$, $z^3$ and $z^4$ in Cartesian form.\n",
    "\n",
    "\n",
    "\n"
   ]
  },
  {
   "cell_type": "code",
   "execution_count": 57,
   "metadata": {},
   "outputs": [
    {
     "name": "stdout",
     "output_type": "stream",
     "text": [
      "z: (0.7071067811865476+0.7071067811865476j)\n",
      "z^2: 1.0000000000000002j\n",
      "z^3: (-0.7071067811865477+0.7071067811865477j)\n",
      "z^4: (-1.0000000000000004+0j)\n"
     ]
    }
   ],
   "source": [
    "z = np.exp(1j * np.pi/4)\n",
    "\n",
    "print(\"z:\", z)\n",
    "print(\"z^2:\", z**2)\n",
    "print(\"z^3:\", z**3)\n",
    "print(\"z^4:\", z**4)"
   ]
  },
  {
   "attachments": {},
   "cell_type": "markdown",
   "metadata": {},
   "source": [
    "## Plotting Complex Numbers\n",
    "\n",
    "A complex number $z = x + iy$ can be plotted it on an Argand diagram at coordinates $(x, y)$. Let's plot $e^{i\\pi/4}$:"
   ]
  },
  {
   "cell_type": "code",
   "execution_count": 51,
   "metadata": {},
   "outputs": [
    {
     "data": {
      "text/plain": [
       "<matplotlib.collections.PathCollection at 0x1f4dcda0308>"
      ]
     },
     "execution_count": 51,
     "metadata": {},
     "output_type": "execute_result"
    },
    {
     "data": {
      "image/png": "[encoded data removed]",
      "text/plain": [
       "<Figure size 640x480 with 1 Axes>"
      ]
     },
     "metadata": {},
     "output_type": "display_data"
    }
   ],
   "source": [
    "# Set up the axes for plotting\n",
    "plt.figure()\n",
    "plt.grid()\n",
    "plt.axvline(0, color='black')\n",
    "plt.axhline(0, color='black')\n",
    "plt.gca().set_aspect('equal')\n",
    "\n",
    "# Set the axis limits\n",
    "plt.xlim(-2, 2)\n",
    "plt.ylim(-2, 2)\n",
    "\n",
    "# Create the complex number z\n",
    "z = 0.5 * np.exp(1j * np.pi/2)\n",
    "\n",
    "# Plot z on the axes\n",
    "plt.scatter(z.real, z.imag)"
   ]
  },
  {
   "attachments": {},
   "cell_type": "markdown",
   "metadata": {},
   "source": [
    "### Question\n",
    "\n",
    "Let $z = e^{i\\pi/4}$.\n",
    "\n",
    "Plot $z$, $z^2$, $z^3$ and $z^4$ on an Argand diagram."
   ]
  },
  {
   "cell_type": "code",
   "execution_count": 58,
   "metadata": {},
   "outputs": [
    {
     "data": {
      "text/plain": [
       "<matplotlib.collections.PathCollection at 0x1f4dceb8908>"
      ]
     },
     "execution_count": 58,
     "metadata": {},
     "output_type": "execute_result"
    },
    {
     "data": {
      "image/png": "[encoded data removed]",
      "text/plain": [
       "<Figure size 640x480 with 1 Axes>"
      ]
     },
     "metadata": {},
     "output_type": "display_data"
    }
   ],
   "source": [
    "# Set up the axes for plotting\n",
    "plt.figure()\n",
    "plt.grid()\n",
    "plt.axvline(0, color='black')\n",
    "plt.axhline(0, color='black')\n",
    "plt.gca().set_aspect('equal')\n",
    "\n",
    "# Set the axis limits\n",
    "plt.xlim(-20, 20)\n",
    "plt.ylim(-20, 20)\n",
    "\n",
    "z = 2 * np.exp(1j * np.pi / 4) # z is a complex number with given argument and modulus\n",
    "z_2 = z**2 # z squared\n",
    "z_3 = z**3 # z cubed\n",
    "z_4 = z**4 # z to the power 4\n",
    "\n",
    "plt.scatter(z.real, z.imag)\n",
    "plt.scatter(z_2.real, z_2.imag)\n",
    "plt.scatter(z_3.real, z_3.imag)\n",
    "plt.scatter(z_4.real, z_4.imag)"
   ]
  },
  {
   "cell_type": "code",
   "execution_count": null,
   "metadata": {},
   "outputs": [],
   "source": []
  }
 ],
 "metadata": {
  "kernelspec": {
   "display_name": "Python 3",
   "language": "python",
   "name": "python3"
  },
  "language_info": {
   "codemirror_mode": {
    "name": "ipython",
    "version": 3
   },
   "file_extension": ".py",
   "mimetype": "text/x-python",
   "name": "python",
   "nbconvert_exporter": "python",
   "pygments_lexer": "ipython3",
   "version": "3.7.9"
  },
  "orig_nbformat": 4
 },
 "nbformat": 4,
 "nbformat_minor": 2
}
