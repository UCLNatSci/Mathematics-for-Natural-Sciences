{
 "cells": [
  {
   "attachments": {},
   "cell_type": "markdown",
   "metadata": {},
   "source": [
    "# Sequences and Series\n",
    "\n",
    "```{admonition} What you will learn\n",
    "\n",
    "After completing this section you should be able to:\n",
    "\n",
    "* Use Python to calculate the first few terms of a sequence or series\n",
    "* Investigate the behaviour of a sequence or series by plotting using `plt.scatter`\n",
    "```\n",
    "\n",
    "```{attention}\n",
    "Before you start, create a new `week 3` folder and notebook for this week's work.\n",
    "```\n",
    "\n",
    "## Sequences\n",
    "\n",
    "If we have an explicit formula for a sequence ${a_n}$ then it is very easy to use Python to calculate and plot a finite number of terms. For example, suppose that\n",
    "\n",
    "$$a_n = \\frac{n - 1}{n + 1}.$$\n",
    "\n",
    "Let's investigate the sequence using Python to calculate the first $10$ terms."
   ]
  },
  {
   "cell_type": "code",
   "execution_count": 1,
   "metadata": {},
   "outputs": [
    {
     "name": "stdout",
     "output_type": "stream",
     "text": [
      "a: [0.         0.33333333 0.5        0.6        0.66666667 0.71428571\n",
      " 0.75       0.77777778 0.8       ]\n"
     ]
    }
   ],
   "source": [
    "import numpy as np\n",
    "import matplotlib.pyplot as plt\n",
    "\n",
    "n = np.arange(1, 10, 1)\n",
    "a = (n - 1) / (n + 1)\n",
    "\n",
    "print(\"a:\", a)"
   ]
  },
  {
   "attachments": {},
   "cell_type": "markdown",
   "metadata": {},
   "source": [
    "```{note}\n",
    "\n",
    "We have included statements to import the Numpy and Matplotlib libraries. We will be using these two libraries extensively, so it is good to get into the habit of including the two `import` statements at the top of every notebook you create.\n",
    "```\n",
    "\n",
    "The terms are certainly increasing, but it's not clear what the limit of the sequence is, or indeed if it's converging at all. Let's try plotting the sequence by adding one more line of code:"
   ]
  },
  {
   "cell_type": "code",
   "execution_count": 2,
   "metadata": {},
   "outputs": [
    {
     "data": {
      "text/plain": [
       "<matplotlib.collections.PathCollection at 0x7f6c57c4d3f0>"
      ]
     },
     "execution_count": 2,
     "metadata": {},
     "output_type": "execute_result"
    },
    {
     "data": {
      "image/png": "[encoded data removed]",
      "text/plain": [
       "<Figure size 640x480 with 1 Axes>"
      ]
     },
     "metadata": {
      "filenames": {
       "image/png": "/home/pete/github/Mathematics-for-Natural-Sciences/python_book/_build/jupyter_execute/3_sequences_series/notes_3_1.png"
      }
     },
     "output_type": "display_data"
    }
   ],
   "source": [
    "plt.scatter(n, a)"
   ]
  },
  {
   "cell_type": "markdown",
   "metadata": {},
   "source": [
    "`plt.scatter` is a Matplotlib function which plots a scatter plot instead of a line graph. This is appropriate, since it doesn't make sense to plot the value of a sequence for fractional values of $n$.\n",
    "\n",
    "```{exercise}\n",
    "\n",
    "Increase the upper limit of the array `n` until the scatter plot convincingly shows the limiting behaviour of the sequence.\n",
    "\n",
    "```\n",
    "\n",
    ":::{admonition} Solution\n",
    ":class: solution, dropdown\n",
    "\n",
    "This sequence converges quite slowly, so you need quite a lot of terms to see its limiting behaviour. Try $100$ terms:\n",
    "\n",
    "```\n",
    "n = np.arange(1, 100, 1)\n",
    "a = (n - 1) / (n + 1)\n",
    "\n",
    "print(\"a:\", a)\n",
    "\n",
    "plt.scatter(n, a)\n",
    "```\n",
    ":::"
   ]
  },
  {
   "cell_type": "code",
   "execution_count": 3,
   "metadata": {},
   "outputs": [
    {
     "name": "stdout",
     "output_type": "stream",
     "text": [
      "a: [0.         0.33333333 0.5        0.6        0.66666667 0.71428571\n",
      " 0.75       0.77777778 0.8        0.81818182 0.83333333 0.84615385\n",
      " 0.85714286 0.86666667 0.875      0.88235294 0.88888889 0.89473684\n",
      " 0.9        0.9047619  0.90909091 0.91304348 0.91666667 0.92\n",
      " 0.92307692 0.92592593 0.92857143 0.93103448 0.93333333 0.93548387\n",
      " 0.9375     0.93939394 0.94117647 0.94285714 0.94444444 0.94594595\n",
      " 0.94736842 0.94871795 0.95       0.95121951 0.95238095 0.95348837\n",
      " 0.95454545 0.95555556 0.95652174 0.95744681 0.95833333 0.95918367\n",
      " 0.96       0.96078431 0.96153846 0.96226415 0.96296296 0.96363636\n",
      " 0.96428571 0.96491228 0.96551724 0.96610169 0.96666667 0.96721311\n",
      " 0.96774194 0.96825397 0.96875    0.96923077 0.96969697 0.97014925\n",
      " 0.97058824 0.97101449 0.97142857 0.97183099 0.97222222 0.97260274\n",
      " 0.97297297 0.97333333 0.97368421 0.97402597 0.97435897 0.97468354\n",
      " 0.975      0.97530864 0.97560976 0.97590361 0.97619048 0.97647059\n",
      " 0.97674419 0.97701149 0.97727273 0.97752809 0.97777778 0.97802198\n",
      " 0.97826087 0.97849462 0.9787234  0.97894737 0.97916667 0.97938144\n",
      " 0.97959184 0.97979798 0.98      ]\n"
     ]
    },
    {
     "data": {
      "text/plain": [
       "<matplotlib.collections.PathCollection at 0x7f6c55b68af0>"
      ]
     },
     "execution_count": 3,
     "metadata": {},
     "output_type": "execute_result"
    },
    {
     "data": {
      "image/png": "[encoded data removed]",
      "text/plain": [
       "<Figure size 640x480 with 1 Axes>"
      ]
     },
     "metadata": {
      "filenames": {
       "image/png": "/home/pete/github/Mathematics-for-Natural-Sciences/python_book/_build/jupyter_execute/3_sequences_series/notes_5_2.png"
      }
     },
     "output_type": "display_data"
    }
   ],
   "source": [
    "n = np.arange(1, 100, 1)\n",
    "a = (n - 1) / (n + 1)\n",
    "\n",
    "print(\"a:\", a)\n",
    "\n",
    "plt.scatter(n, a)"
   ]
  },
  {
   "attachments": {},
   "cell_type": "markdown",
   "metadata": {},
   "source": [
    "```{note}\n",
    "\n",
    "We can never *prove* convergence using Python, but we can investigate the sequences behaviour by calculating a large number of terms.\n",
    "\n",
    "```\n",
    "\n",
    ":::{exercise}\n",
    ":label: ex_sequence_1\n",
    "\n",
    "Use Python to investigate the sequence\n",
    "\n",
    "$$a_n = \\left(1 + \\frac{1}{n}\\right)^n.$$\n",
    "\n",
    "What is the limit of this sequence (hint: it's a very special number)\n",
    ":::\n",
    "\n",
    ":::{admonition} Solution\n",
    ":class: solution, dropdown\n",
    "\n",
    "```\n",
    "n = np.arange(1, 100, 1)\n",
    "a = (1 + 1/n) ** n\n",
    "\n",
    "plt.scatter(n, a)\n",
    "```\n",
    ":::"
   ]
  },
  {
   "attachments": {},
   "cell_type": "markdown",
   "metadata": {},
   "source": [
    "## Series\n",
    "\n",
    "Recall that the sum of a series is defined as the limit of the sequence of partial sums:\n",
    "\n",
    "$$\\sum_{n=1}^\\infty a_n = \\lim_{N\\to\\infty}\\sum_{n=1}^N a_n.$$\n",
    "\n",
    "Numpy has a handy function called `np.cumsum` which does exactly this. Given an array, `np.cumsum` calculates the cumulative sum of the elements.\n",
    "\n",
    "For example, given an array\n",
    "\n",
    "```\n",
    "x = [1, 2, 3, 4]\n",
    "```\n",
    "then `cumsum(x)` returns\n",
    "```\n",
    "[1, 2, 6, 10]\n",
    "```\n",
    "\n",
    "Let's use this function to calculate partial sums of the sequence $a_n = 1/2^n$."
   ]
  },
  {
   "cell_type": "code",
   "execution_count": 4,
   "metadata": {},
   "outputs": [
    {
     "ename": "TypeError",
     "evalue": "linspace() missing 2 required positional arguments: 'start' and 'stop'",
     "output_type": "error",
     "traceback": [
      "\u001b[0;31m---------------------------------------------------------------------------\u001b[0m",
      "\u001b[0;31mTypeError\u001b[0m                                 Traceback (most recent call last)",
      "Cell \u001b[0;32mIn[4], line 1\u001b[0m\n\u001b[0;32m----> 1\u001b[0m x \u001b[38;5;241m=\u001b[39m \u001b[43mnp\u001b[49m\u001b[38;5;241;43m.\u001b[39;49m\u001b[43mlinspace\u001b[49m\u001b[43m(\u001b[49m\u001b[43m)\u001b[49m\n",
      "\u001b[0;31mTypeError\u001b[0m: linspace() missing 2 required positional arguments: 'start' and 'stop'"
     ]
    }
   ],
   "source": [
    "x = np.linspace()"
   ]
  },
  {
   "cell_type": "markdown",
   "metadata": {},
   "source": [
    ":::{solution} ex_sequence_1\n",
    ":class: dropdown\n",
    "```\n",
    "n = np.arange(1, 50, 1)\n",
    "a = np.log(n)\n",
    "\n",
    "print(\"a:\", a)\n",
    "\n",
    "plt.scatter(n, a)\n",
    "```\n",
    ":::"
   ]
  },
  {
   "cell_type": "code",
   "execution_count": null,
   "metadata": {},
   "outputs": [],
   "source": []
  },
  {
   "cell_type": "code",
   "execution_count": 7,
   "metadata": {},
   "outputs": [
    {
     "name": "stdout",
     "output_type": "stream",
     "text": [
      "a: [5.00000000e-01 2.50000000e-01 1.25000000e-01 6.25000000e-02\n",
      " 3.12500000e-02 1.56250000e-02 7.81250000e-03 3.90625000e-03\n",
      " 1.95312500e-03 9.76562500e-04 4.88281250e-04 2.44140625e-04\n",
      " 1.22070312e-04 6.10351562e-05]\n",
      "s: [0.5        0.75       0.875      0.9375     0.96875    0.984375\n",
      " 0.9921875  0.99609375 0.99804688 0.99902344 0.99951172 0.99975586\n",
      " 0.99987793 0.99993896]\n"
     ]
    },
    {
     "data": {
      "text/plain": [
       "<matplotlib.collections.PathCollection at 0x1aa7ad067c8>"
      ]
     },
     "execution_count": 7,
     "metadata": {},
     "output_type": "execute_result"
    },
    {
     "data": {
      "image/png": "[encoded data removed]",
      "text/plain": [
       "<Figure size 640x480 with 1 Axes>"
      ]
     },
     "metadata": {
      "filenames": {
       "image/png": "/home/pete/github/Mathematics-for-Natural-Sciences/python_book/_build/jupyter_execute/3_sequences_series/notes_11_2.png"
      }
     },
     "output_type": "display_data"
    }
   ],
   "source": [
    "n = np.arange(1, 15, 1)\n",
    "a = 1 / 2 ** n\n",
    "s = np.cumsum(a)\n",
    "\n",
    "print(\"a:\", a)\n",
    "print(\"s:\", s)\n",
    "\n",
    "plt.scatter(n, s)"
   ]
  },
  {
   "attachments": {},
   "cell_type": "markdown",
   "metadata": {},
   "source": [
    "As expected, the series\n",
    "\n",
    "$$\\sum_{n=1}^{\\infty}1/2^n$$\n",
    "\n",
    "appears to converge to the value $1$.\n",
    "\n",
    "The series\n",
    "\n",
    "$$\\sum_{n=0}^\\infty \\frac{1}{n!} = 1 + \\frac{1}{1} + \\frac{1}{2!} + \\frac{1}{3!} + \\frac{1}{4!} + \\cdots$$\n",
    "\n",
    "is very important in mathematics. To calculate its sum we need to use the factorial function $n!$. To access this function, we first need to import a new library called `scipy.special`."
   ]
  },
  {
   "cell_type": "code",
   "execution_count": 9,
   "metadata": {},
   "outputs": [
    {
     "name": "stdout",
     "output_type": "stream",
     "text": [
      "4! = 24.0\n"
     ]
    }
   ],
   "source": [
    "import scipy.special as sp\n",
    "\n",
    "print(\"4! =\", sp.factorial(4))"
   ]
  },
  {
   "attachments": {},
   "cell_type": "markdown",
   "metadata": {},
   "source": [
    ":::{exercise}\n",
    ":label: ex_sequence_2\n",
    "\n",
    "Use Python to calculate and plot the first few terms of the series \n",
    "\n",
    "$$\\sum_{n=0}^\\infty \\frac{1}{n!}.$$\n",
    "\n",
    "What is the limit of this sequence?\n",
    ":::\n",
    "\n",
    ":::{solution} ex_sequence_2\n",
    ":class: dropdown\n",
    "```\n",
    "import scipy.special as sp\n",
    "\n",
    "n = np.arange(0, 15, 1)\n",
    "a = 1 / sp.factorial(n)\n",
    "s = np.cumsum(a)\n",
    "\n",
    "print(\"a:\", a)\n",
    "print(\"s:\", s)\n",
    "\n",
    "plt.scatter(n, s)\n",
    "```\n",
    "\n",
    "The limit of this sequence is $e = 2.71828\\ldots$.\n",
    ":::"
   ]
  }
 ],
 "metadata": {
  "kernelspec": {
   "display_name": "Python 3",
   "language": "python",
   "name": "python3"
  },
  "language_info": {
   "codemirror_mode": {
    "name": "ipython",
    "version": 3
   },
   "file_extension": ".py",
   "mimetype": "text/x-python",
   "name": "python",
   "nbconvert_exporter": "python",
   "pygments_lexer": "ipython3",
   "version": "3.10.6"
  }
 },
 "nbformat": 4,
 "nbformat_minor": 2
}