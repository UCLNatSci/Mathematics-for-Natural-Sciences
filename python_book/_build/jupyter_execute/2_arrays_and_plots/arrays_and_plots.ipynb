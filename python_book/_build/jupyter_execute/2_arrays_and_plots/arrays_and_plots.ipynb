{
 "cells": [
  {
   "cell_type": "markdown",
   "metadata": {},
   "source": [
    "# Arrays and Plotting\n",
    "\n",
    "After completing this chapter you will be able to:\n",
    "\n",
    "* Create a new notebook\n",
    "\n",
    "* Create a `numpy` array, and carry out basic mathematical operations on arrays.\n",
    "\n",
    "* Use the `arange` and `linspace` functions to generate equally spaced arrays and recognise the difference between these two functions\n",
    "\n",
    "* Create a plot of a mathematical function using `matplotlib`, and perform basic styling such as labelling the axes or changing the line style\n",
    "\n",
    "## Create a new folder and file\n",
    "\n",
    "We need to create a new notebook for this week's work. To keep everything organised, we'll first create a folder to store it in. We can do both using the 'New' dropdown button:\n",
    "\n",
    "![New dropdown](new_folder.png)\n",
    "\n",
    "Perform the following steps to create a new folder called `week 2`:\n",
    "\n",
    "> 1. Click ![home](home.png) to open the home folder.\n",
    "> 2. Click The 'New' dropdown button and select 'Folder' at the bottom of the list. \n",
    "> 3. Enter the folder name `week 2` and click 'Create'\n",
    "\n",
    "The folder is created and CoCalc automatically opens it. Next, create a new notebook file in the folder called `arrays_and_plots.ipynb`\n",
    "\n",
    "> 1. Click The 'New' dropdown button and select 'Jupyter Notebook' at the top of the list. \n",
    "> 2. Enter the file name `arrays_and_plots` and click 'Create'.\n",
    "> 3. If Cocalc prompts you to select a kernel, click 'Python 3 (system-wide)'\n",
    "\n",
    "Cocalc automatically opens the new notebook ready for you to start work.\n",
    "\n",
    "```{attention}\n",
    "You should create a separate folder for each week's work. Within each folder you should create one notebook for the workshop, as well as other notebooks for practice and draft work.\n",
    "```\n",
    "\n",
    "## Projectiles\n",
    "\n",
    "Python is especially useful for modelling physical systems. We'll illustrate this with a simple example from mechanics: the motion of an object under gravity.\n",
    "\n",
    "```{figure} cannon.jpg\n",
    "---\n",
    "height: 150px\n",
    "name: cannon\n",
    "---\n",
    "A projectile fired horizontally from a cannon.\n",
    "```\n",
    "\n",
    "A projectile fired horizontally at a speed $v_0 = 5~\\mathrm{m/s}$ from an initial height $y_0 = 200~\\mathrm{m}$ follows a trajectory given by the following equations:\n",
    "\n",
    "$$\\begin{align*}x(t) &= v_0t\\\\\n",
    "y(t) &= y_0-\\frac{1}{2}gt^2\\end{align*}$$\n",
    "\n",
    "We will write a program which simulates the trajectory of the projectile, calculating the x,y-position of the projectile between zero and four seconds.\n",
    "\n",
    "If you execute the code below, Python creates and displays three arrays `t`, `x` and `y`. An array is a variable containing a sequence of numerical values."
   ]
  },
  {
   "cell_type": "code",
   "execution_count": 1,
   "metadata": {},
   "outputs": [
    {
     "name": "stdout",
     "output_type": "stream",
     "text": [
      "t (seconds): [0. 1. 2. 3. 4.]\n",
      "x (metres): [ 0.  5. 10. 15. 20.]\n",
      "y (metres): [200.    195.095 180.38  155.855 121.52 ]\n"
     ]
    }
   ],
   "source": [
    "import numpy as np\n",
    "\n",
    "# set values of constants\n",
    "\n",
    "v_0 = 5     # initial velocity\n",
    "y_0 = 200   # initial y position\n",
    "g = 9.81    # acceleration due to gravity\n",
    "\n",
    "# create an array t containing 5 values between 0 and 4\n",
    "\n",
    "t = np.linspace(0, 4, 5)\n",
    "\n",
    "x = v_0 * t\n",
    "y = y_0 - 0.5 * g * t ** 2\n",
    "\n",
    "print(\"t (seconds):\", t)\n",
    "print(\"x (metres):\", x)\n",
    "print(\"y (metres):\", y)"
   ]
  },
  {
   "cell_type": "markdown",
   "metadata": {},
   "source": [
    "The line\n",
    "\n",
    "```\n",
    "import numpy as np\n",
    "```\n",
    "\n",
    "instructs Python to load a software library called 'Numpy'. Numpy (pronounced 'num-pie') contains useful mathematical functions and an array data type. Next, we create three numerical variables `v_0`, `y_0` and `g`. Then,\n",
    "\n",
    "```\n",
    "t = np.linspace(0, 4, 5)\n",
    "```\n",
    "\n",
    "creates an array `t` containing 5 numbers between 0 and 4. Next, we calculate the x- and y-positions of the projectile and store the results in arrays `x` and `y`:\n",
    "\n",
    "```\n",
    "x = v_0 * t\n",
    "y = y_0 - 0.5 * g * t ** 2\n",
    "```\n",
    "\n",
    "```{exercise}\n",
    "What is the x,y-position of the projectile at 4 seconds?\n",
    "\n",
    "By increasing the upper limit of `t`, estimate the time that projectile hits the ground. How far does it travel horizontally?\n",
    "```\n",
    "\n",
    "````{admonition} Solution\n",
    ":class: solution, dropdown\n",
    "\n",
    "At 4 seconds, the x-position of the projectile is `20.` metres and the y-position is `121.52` metres.\n",
    "\n",
    "To accurately estimate the time that the projectile hits the ground, it helps to increase the number of values in the array as well as increasing the upper limit. For example,\n",
    "\n",
    "```{code}\n",
    "import numpy as np\n",
    "\n",
    "v_0 = 5\n",
    "y_0 = 200\n",
    "g = 9.81\n",
    "\n",
    "t = np.linspace(0, 9, 10)\n",
    "\n",
    "x = v_0 * t\n",
    "y = y_0 - 0.5 * g * t ** 2\n",
    "\n",
    "print(\"t (seconds):\", t)\n",
    "print(\"x (metres):\", x)\n",
    "print(\"y (metres):\", y)\n",
    "```\n",
    "\n",
    "increases the upper limit to 9 and the number of values to 10.\n",
    "\n",
    "```{code}\n",
    "t (seconds): [0. 1. 2. 3. 4. 5. 6. 7. 8. 9.]\n",
    "x (metres): [ 0.  5. 10. 15. 20. 25. 30. 35. 40. 45.]\n",
    "y (metres): [ 200.     195.095  180.38   155.855  121.52    77.375   23.42   -40.345\n",
    " -113.92  -197.305]\n",
    "```\n",
    "The projectile hits the ground between 6 and 7 seconds, at which time it has travelled between 30 and 35 metres.\n",
    "````\n",
    "\n",
    "(sec-numpy)=\n",
    "## Using Numpy\n",
    "\n",
    "As well as containing the array data type, the Numpy library gives us access to a variety of mathematical functions. For example, to calculate the square-root of two we use the `sqrt` function:"
   ]
  },
  {
   "cell_type": "code",
   "execution_count": 2,
   "metadata": {},
   "outputs": [
    {
     "name": "stdout",
     "output_type": "stream",
     "text": [
      "The square root of 2 is 1.4142135623730951\n"
     ]
    }
   ],
   "source": [
    "x = np.sqrt(2)\n",
    "print(\"The square root of 2 is\", x)"
   ]
  },
  {
   "cell_type": "markdown",
   "metadata": {},
   "source": [
    "Note that we have to use the prefix `np.` which is the alias defined when we imported Numpy\n",
    "\n",
    "```\n",
    "import numpy as np\n",
    "```\n",
    "\n",
    "A list of mathematical functions that are defined by the numpy library can be found [here](https://numpy.org/doc/stable/reference/routines.math.html). The library also contains definitions of mathematical constants $e$ and $\\pi$.\n",
    "\n",
    "For example, to calculate $\\cos(3\\pi/2)$ we can use the following code:"
   ]
  },
  {
   "cell_type": "code",
   "execution_count": 3,
   "metadata": {},
   "outputs": [
    {
     "name": "stdout",
     "output_type": "stream",
     "text": [
      "cos(3 pi/2) =  -1.8369701987210297e-16\n"
     ]
    }
   ],
   "source": [
    "x = np.cos(3 * np.pi / 2)\n",
    "print(\"cos(3 pi/2) = \", x)"
   ]
  },
  {
   "cell_type": "markdown",
   "metadata": {},
   "source": [
    "The result is not exactly zero, but is extremely close. This happens because the calculation is done using something called \"floating point arithmetic\".\n",
    "\n",
    "```{exercise}\n",
    "(a) Calculate $e^{\\sqrt{2}}$ and define the result as $y$.<br>\n",
    "(b) Carry out further operations on $y$ that should return the result 2.\n",
    "```\n",
    "\n",
    "````{admonition} Solution\n",
    ":class: solution, dropdown\n",
    "\n",
    "(a) To calculate the result $y$ we can type either of the following. The latter expression is generally considered to be better practice:\n",
    "\n",
    "```{code}\n",
    "y=np.e**np.sqrt(2)   #method 1\n",
    "y=np.exp(np.sqrt(2)) #method 2\n",
    "```\n",
    "\n",
    "(b) Whichever method you use, to re-obtain the value 2 we need to first take the natural logarithm and then square the result.\n",
    "\n",
    "```{code}\n",
    "print(np.log(y)**2)\n",
    "```\n",
    "\n",
    "Again, the result is not exactly 2 but is extremely close.\n",
    "\n",
    "Note: The natural logarithm uses the function name `log`, not `ln`. This is common in scientific programming languages. If we want the log in base 10, we can use `log10`.\n",
    "\n",
    "````\n",
    "\n",
    "### Numpy arrays\n",
    "\n",
    "The Numpy library allows us construct arrays, which are variables containing a sequence of numerical values, like a vector from mathematics. The `linspace` functions from the numpy library can be used to create arrays of evenly spaced values.\n",
    "\n",
    "\n",
    "Check out the results of the following expressions. Using the `*` and `+` operands on numpy arrays results in addition and multiplication."
   ]
  },
  {
   "cell_type": "code",
   "execution_count": 4,
   "metadata": {},
   "outputs": [
    {
     "name": "stdout",
     "output_type": "stream",
     "text": [
      "[1.  1.1 1.2 1.3 1.4 1.5 1.6 1.7 1.8 1.9 2. ]\n",
      "[-1.  -0.9 -0.8 -0.7 -0.6 -0.5 -0.4 -0.3 -0.2 -0.1  0. ]\n",
      "[3.  3.3 3.6 3.9 4.2 4.5 4.8 5.1 5.4 5.7 6. ]\n",
      "[2.  2.2 2.4 2.6 2.8 3.  3.2 3.4 3.6 3.8 4. ]\n",
      "[1.   1.21 1.44 1.69 1.96 2.25 2.56 2.89 3.24 3.61 4.  ]\n"
     ]
    }
   ],
   "source": [
    "x = np.linspace(1,2,11)\n",
    "\n",
    "print(x)\n",
    "\n",
    "print(x-2)\n",
    "print(3*x)\n",
    "print(x+x)\n",
    "print(x**2)"
   ]
  },
  {
   "cell_type": "markdown",
   "metadata": {},
   "source": [
    "\n",
    "In fact, any mathematical operation that can be applied to a single number can also be applied to arrays. For example, `np.exp(x)` or `np.sqrt(x)`.\n",
    "\n",
    "```{exercise}\n",
    "Use `np.linspace` to create an array containing the values `[0 0.25 0.5 0.75 1.0]`, then calculate an array containing the square roots of these numbers.\n",
    "```\n",
    "\n",
    "````{admonition} Solution\n",
    ":class: solution, dropdown\n",
    "\n",
    "```{code}\n",
    "x = np.linspace(0, 1, 5)\n",
    "y = np.sqrt(x)\n",
    "\n",
    "print(x)\n",
    "print(y)\n",
    "```\n",
    "````\n",
    "\n",
    "## Plotting\n",
    "\n",
    "In this section we'll learn how to use Python to plot graphs. Let's plot a graph of the trajectory of the projectile introduced at the start of this workshop:"
   ]
  },
  {
   "cell_type": "code",
   "execution_count": 5,
   "metadata": {},
   "outputs": [
    {
     "name": "stdout",
     "output_type": "stream",
     "text": [
      "t (seconds): [0. 1. 2. 3. 4.]\n",
      "x (metres): [ 0.  5. 10. 15. 20.]\n",
      "y (metres): [200.    195.095 180.38  155.855 121.52 ]\n"
     ]
    },
    {
     "data": {
      "text/plain": [
       "[<matplotlib.lines.Line2D at 0x267462ba188>]"
      ]
     },
     "execution_count": 5,
     "metadata": {},
     "output_type": "execute_result"
    },
    {
     "data": {
      "image/png": "[encoded data removed]",
      "text/plain": [
       "<Figure size 640x480 with 1 Axes>"
      ]
     },
     "metadata": {},
     "output_type": "display_data"
    }
   ],
   "source": [
    "import numpy as np\n",
    "import matplotlib.pyplot as plt\n",
    "\n",
    "# set values of constants\n",
    "\n",
    "v_0 = 5     # initial velocity\n",
    "y_0 = 200   # initial y position\n",
    "g = 9.81    # acceleration due to gravity\n",
    "\n",
    "# create an array t containing 5 values between 0 and 4\n",
    "\n",
    "t = np.linspace(0, 4, 5)\n",
    "\n",
    "x = v_0 * t\n",
    "y = y_0 - 0.5 * g * t ** 2\n",
    "\n",
    "print(\"t (seconds):\", t)\n",
    "print(\"x (metres):\", x)\n",
    "print(\"y (metres):\", y)\n",
    "\n",
    "plt.figure()\n",
    "plt.xlabel(\"time (seconds)\")\n",
    "plt.ylabel(\"y position (metres)\")\n",
    "plt.plot(t, y)"
   ]
  },
  {
   "cell_type": "markdown",
   "metadata": {},
   "source": [
    "At the top of the file we have introduced new `import` statement\n",
    "\n",
    "```\n",
    "import matplotlib.pyplot as plt\n",
    "```\n",
    "\n",
    "which loads the 'Matplotlib' library. This library contains functions which allow us to generate plots and graphs."
   ]
  }
 ],
 "metadata": {
  "kernelspec": {
   "display_name": "Python 3",
   "language": "python",
   "name": "python3"
  },
  "language_info": {
   "codemirror_mode": {
    "name": "ipython",
    "version": 3
   },
   "file_extension": ".py",
   "mimetype": "text/x-python",
   "name": "python",
   "nbconvert_exporter": "python",
   "pygments_lexer": "ipython3",
   "version": "3.7.9"
  }
 },
 "nbformat": 4,
 "nbformat_minor": 2
}