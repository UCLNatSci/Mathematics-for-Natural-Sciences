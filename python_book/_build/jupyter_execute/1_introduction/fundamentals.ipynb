{
 "cells": [
  {
   "cell_type": "markdown",
   "id": "5d8a62e4",
   "metadata": {},
   "source": [
    "# Fundamentals\n",
    "\n",
    "```{admonition} What you will learn\n",
    "\n",
    "After completing this section you should be able to:\n",
    "\n",
    "* Perform arithmetic calculations using numbers (BIDMAS)\n",
    "* Define and work with numerical variables\n",
    "* Use the `print` function to display the value of variables\n",
    "* Use scientific notation\n",
    "```\n",
    "\n",
    "> Before you start, open the notebook file `fundamentals.ipynb` which is in the `week 1` folder of your CoCalc Project.\n",
    "\n",
    "## Arithmetic Expressions\n",
    "\n",
    "We can use Python like a scientific calculator to evaluate a mathematical expression. Python evaluates the expression and displays the result underneath the code cell. For example, if you enter the following code into a code cell and click run, Python will display the value of $45$ times $99$:"
   ]
  },
  {
   "cell_type": "code",
   "execution_count": 1,
   "id": "4dd040ab",
   "metadata": {},
   "outputs": [
    {
     "data": {
      "text/plain": [
       "4455"
      ]
     },
     "execution_count": 1,
     "metadata": {},
     "output_type": "execute_result"
    }
   ],
   "source": [
    "45 * 99"
   ]
  },
  {
   "cell_type": "markdown",
   "id": "26d93983",
   "metadata": {},
   "source": [
    "Python supports the following arithmetic operations:\n",
    "\n",
    "| Operator | Symbol |\n",
    "|---|---|\n",
    "| Addition | `+` |\n",
    "| Subtraction | `-` |\n",
    "| Multiplication | `*` |\n",
    "| Division | `/` |\n",
    "| Power | `**` |\n",
    "\n",
    " The order of operations is determined by [BIDMAS](https://www.bbc.co.uk/bitesize/topics/znmtsbk/articles/zj29dxs). For example, in the following expression, the division is performed first and then the addition, so the result is $3 + \\frac{4}{2} = 5$."
   ]
  },
  {
   "cell_type": "code",
   "execution_count": 2,
   "id": "dbae8544",
   "metadata": {},
   "outputs": [
    {
     "data": {
      "text/plain": [
       "5.0"
      ]
     },
     "execution_count": 2,
     "metadata": {},
     "output_type": "execute_result"
    }
   ],
   "source": [
    "3 + 4 / 2"
   ]
  },
  {
   "cell_type": "markdown",
   "id": "a8aa4650",
   "metadata": {},
   "source": [
    "Brackets can be used to control the order in which the parts of an expression are computed. For example, to compute $\\frac{3 + 4}{2}$ we use brackets so that the addition is carried out first:"
   ]
  },
  {
   "cell_type": "code",
   "execution_count": 3,
   "id": "32c99774",
   "metadata": {},
   "outputs": [
    {
     "data": {
      "text/plain": [
       "3.5"
      ]
     },
     "execution_count": 3,
     "metadata": {},
     "output_type": "execute_result"
    }
   ],
   "source": [
    "(3 + 4) / 2"
   ]
  },
  {
   "cell_type": "markdown",
   "id": "61898867",
   "metadata": {},
   "source": [
    "Note that to calculate powers, use the `**` operator (not `^` which is used is some other programming languages). For example, the following expression calculates $8^3$:"
   ]
  },
  {
   "cell_type": "code",
   "execution_count": 4,
   "id": "bb1a9d26",
   "metadata": {},
   "outputs": [
    {
     "data": {
      "text/plain": [
       "512"
      ]
     },
     "execution_count": 4,
     "metadata": {},
     "output_type": "execute_result"
    }
   ],
   "source": [
    "8 ** 3"
   ]
  },
  {
   "cell_type": "markdown",
   "id": "0bb34f0d",
   "metadata": {},
   "source": [
    "```{exercise}\n",
    "Use Python to calculate the value of $\\frac{-5 + \\sqrt{5^2 - 4}}{2}$.\n",
    "\n",
    "Hint: $\\sqrt{x} = x^{0.5}$.\n",
    "```\n",
    "\n",
    "````{admonition} Solution\n",
    ":class: solution, dropdown\n",
    "\n",
    "```{code-block} python\n",
    "(-5 + (5**2 - 4)**0.5) / 2\n",
    "```\n",
    "```none\n",
    "-0.20871215252208009\n",
    "````\n",
    "\n",
    "## Variables and `print`\n",
    "\n",
    "A **variable** is a named storage location in the computer's memory which we can use later in our computations. The following two lines of code create two variables, `speed` with value `35` and `double_speed` with value `2 * 35`:"
   ]
  },
  {
   "cell_type": "code",
   "execution_count": 5,
   "id": "086c40c6",
   "metadata": {},
   "outputs": [],
   "source": [
    "speed = 35                 \n",
    "double_speed = speed * 2   "
   ]
  },
  {
   "cell_type": "markdown",
   "id": "81e71b9e",
   "metadata": {},
   "source": [
    "If you execute these two lines of code, nothing appears to happen. This is because assigment operations do not cause Python to generate any output. To display the value of a variable, use the `print` function:"
   ]
  },
  {
   "cell_type": "code",
   "execution_count": 6,
   "id": "29fda28a",
   "metadata": {},
   "outputs": [
    {
     "name": "stdout",
     "output_type": "stream",
     "text": [
      "35\n",
      "70\n"
     ]
    }
   ],
   "source": [
    "speed = 35                 \n",
    "double_speed = speed * 2   \n",
    "\n",
    "print(speed)\n",
    "print(double_speed)"
   ]
  },
  {
   "cell_type": "markdown",
   "id": "97edb5b0",
   "metadata": {},
   "source": [
    "A single print statement can be used to display multiple values. Separate each value by a comma `,` and use double quotes `\"` for literal text:"
   ]
  },
  {
   "cell_type": "code",
   "execution_count": 7,
   "id": "3401f77a",
   "metadata": {},
   "outputs": [
    {
     "name": "stdout",
     "output_type": "stream",
     "text": [
      "The speed is 35 and double speed is 70\n"
     ]
    }
   ],
   "source": [
    "print(\"The speed is\", speed, \"and double speed is\", double_speed)"
   ]
  },
  {
   "cell_type": "markdown",
   "id": "afdcfda0",
   "metadata": {},
   "source": [
    "### Example\n",
    "\n",
    "Suppose we would like to calculate the solutions to the equation\n",
    "\n",
    "$$x^2 + 5x + 4 = 0.$$\n",
    "\n",
    "The following code uses the quadratic formula to calculate and display one solution to the equation:"
   ]
  },
  {
   "cell_type": "code",
   "execution_count": 8,
   "id": "bca41a8a",
   "metadata": {},
   "outputs": [
    {
     "name": "stdout",
     "output_type": "stream",
     "text": [
      "Solution: -1.0\n"
     ]
    }
   ],
   "source": [
    "a = 1\n",
    "b = 5\n",
    "c = 4\n",
    "\n",
    "first_solution = (-b + (b**2 - 4*a*c)**0.5) / (2*a)\n",
    "\n",
    "print(\"Solution:\", first_solution)"
   ]
  },
  {
   "cell_type": "markdown",
   "id": "e0b9ccf0",
   "metadata": {},
   "source": [
    "````{exercise}\n",
    "Complete the code so that it prints the **two** solutions to the quadratic equation $x^2 + 5x + 4 = 0$. The output should look like\n",
    "\n",
    "```none\n",
    "The two solutions are -1.0 and -4.0\n",
    "```\n",
    "````\n",
    "\n",
    "````{admonition} Solution\n",
    ":class: solution, dropdown\n",
    "\n",
    "```{code-block} python\n",
    "a = 1\n",
    "b = 5\n",
    "c = 4\n",
    "\n",
    "first_solution = (-b + (b**2 - 4*a*c)**0.5) / (2*a)\n",
    "secnd_solution = (-b - (b**2 - 4*a*c)**0.5) / (2*a)\n",
    "\n",
    "print(\"The two solutions are\", first_solution, \"and\", secnd_solution)\n",
    "```\n",
    "````"
   ]
  },
  {
   "cell_type": "markdown",
   "id": "f40aeb81",
   "metadata": {},
   "source": [
    "### Variable naming rules\n",
    "\n",
    "* A variable name can only contain alpha-numeric characters and underscores `A-Z`, `a-z`, `0-9`, and `_`\n",
    "* A variable name cannot start with a number\n",
    "* Variable names are case-sensitive (`age`, `Age` and `AGE` are three different variables)\n",
    "\n",
    "## Comments\n",
    "\n",
    "A Python comment is any text that begin with a `#` character. Comments are ignored by the Python interpreter and are useful for adding descriptive text to your code. For example, in the following code\n",
    "\n",
    "```\n",
    "# Set the value of speed to 10\n",
    "speed = 10\n",
    "```\n",
    "\n",
    "the line `# Set the value of speed to 10` is ignored by Python.\n",
    "\n",
    "It is a good idea to get in the habit of adding comments to your code to help the reader understand what it is doing.\n",
    "\n",
    "## Scientific Notation\n",
    "\n",
    "We often use [scientific notation](https://en.wikipedia.org/wiki/Scientific_notation) to represent numbers which are very large or very small. For example, we might write 1.2 million as\n",
    "\n",
    "$$1.2 \\times 10^6$$\n",
    "\n",
    "where $1.2$ is called the **mantissa** and $6$ is called the **exponent**. Python uses an `e` symbol to separate the mantissa and exponent when using scientific notation."
   ]
  },
  {
   "cell_type": "code",
   "execution_count": 9,
   "id": "d5c37f13",
   "metadata": {},
   "outputs": [],
   "source": [
    "x = 1.2e6"
   ]
  },
  {
   "cell_type": "markdown",
   "id": "2b7ed057",
   "metadata": {},
   "source": [
    "### Example\n",
    "\n",
    "How long does it take for light to travel from the Moon to the Earth, given that the Moon is $384.4~\\mathrm{million~m}$ from the Earth and the speed of light is $299.8\\mathrm{~million~m/s}$?"
   ]
  },
  {
   "cell_type": "code",
   "execution_count": 10,
   "id": "cd0ba14e",
   "metadata": {},
   "outputs": [
    {
     "name": "stdout",
     "output_type": "stream",
     "text": [
      "Time for light to travel from Moon to Earth: 1.2821881254169447 seconds.\n"
     ]
    }
   ],
   "source": [
    "# set the value of the speed of light in m/s\n",
    "c = 299.8e6\n",
    "\n",
    "# set the value of the distance in m\n",
    "dis = 384.4e6\n",
    "\n",
    "# calculate the time in s\n",
    "t = dis / c\n",
    "\n",
    "print(\"Time for light to travel from Moon to Earth:\", t, \"seconds.\")\n"
   ]
  },
  {
   "cell_type": "markdown",
   "id": "897d8a9f",
   "metadata": {},
   "source": [
    "So it takes $1.282~\\mathrm{s}$ for light to reach the Earth from the Moon.\n",
    "\n",
    "```{attention}\n",
    "Pay attention to significant figures. Python calculated a value of `1.2821881254169447` but the quantities were only given to 4 significant figures so we should not quote more than 4 significant figures in our answer. \n",
    "```\n",
    "\n",
    "````{exercise}\n",
    "\n",
    "In physics, the fine structure constant $\\alpha$ is given by\n",
    "\n",
    "$$\\alpha = e^2/2\\epsilon_0h$$\n",
    "\n",
    "where $e=1.60 \\times 10^{-19}~\\mathrm{C}$ is the elementary charge, $\\epsilon_0 = 8.85~\\mathrm{Fm}^{-1}$ is the electric permittivity of free space, and $h = 6.63~ \\mathrm{JHz}^{-1}$ is Planck's constant.\n",
    "\n",
    "Calculate the value of $\\alpha$ and check your answer against the value on the [Wikipedia page](https://en.wikipedia.org/wiki/Fine-structure_constant).\n",
    "````\n",
    "\n",
    "````{admonition} Solution\n",
    ":class: solution, dropdown\n",
    "\n",
    "```{code-block} python\n",
    "# elementary charge\n",
    "e = 1.6e-19\n",
    "\n",
    "# permittivity\n",
    "epsilon_0 = 8.85\n",
    "\n",
    "# Planck's constant\n",
    "h = 6.63\n",
    "\n",
    "# Calculate fine structure constant\n",
    "\n",
    "alpha = e ** 2 / (2 * epsilon_0 * h)\n",
    "\n",
    "print(\"Fine structure constant:\", alpha)\n",
    "```\n",
    "````\n",
    "\n",
    "```{note}\n",
    "Note that we avoid Greek characters such as `α` in our Python code since Python might not understand it. Stick to the regular alphabet!\n",
    "```"
   ]
  }
 ],
 "metadata": {
  "jupytext": {
   "text_representation": {
    "extension": ".md",
    "format_name": "myst",
    "format_version": 0.13,
    "jupytext_version": "1.15.0"
   }
  },
  "kernelspec": {
   "display_name": "Python 3 (ipykernel)",
   "language": "python",
   "name": "python3"
  },
  "language_info": {
   "codemirror_mode": {
    "name": "ipython",
    "version": 3
   },
   "file_extension": ".py",
   "mimetype": "text/x-python",
   "name": "python",
   "nbconvert_exporter": "python",
   "pygments_lexer": "ipython3",
   "version": "3.10.6"
  },
  "source_map": [
   12,
   32,
   34,
   48,
   52,
   56,
   58,
   62,
   64,
   86,
   89,
   93,
   99,
   103,
   105,
   115,
   123,
   148,
   177,
   179,
   185,
   197
  ]
 },
 "nbformat": 4,
 "nbformat_minor": 5
}