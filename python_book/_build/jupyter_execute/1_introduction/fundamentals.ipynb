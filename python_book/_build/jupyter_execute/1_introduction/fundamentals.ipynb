{
 "cells": [
  {
   "cell_type": "markdown",
   "id": "6b251aae",
   "metadata": {},
   "source": [
    "# Fundamentals\n",
    "\n",
    "After completing this chapter you should be able to:\n",
    "\n",
    "* Perform arithmetic calculations using numbers (BIDMAS)\n",
    "* Define and work with numerical variables\n",
    "* Use the `print` function to display the value of variables\n",
    "* Distinguish between integers and floating point values and use scientific notation\n",
    "\n",
    "> Before you start, open the notebook file `fundamentals.ipynb` which is in the `week 1` folder of your CoCalc Project.\n",
    "\n",
    "## Arithmetic Expressions\n",
    "\n",
    "We can use Python like a scientific calculator to evaluate a mathematical expression. Python evaluates the expression and displays the result underneath the code cell. For example, if you enter the following code into a code cell and click run, Python will display the value of $45$ times $99$:"
   ]
  },
  {
   "cell_type": "code",
   "execution_count": 1,
   "id": "c783df2f",
   "metadata": {},
   "outputs": [
    {
     "data": {
      "text/plain": [
       "4455"
      ]
     },
     "execution_count": 1,
     "metadata": {},
     "output_type": "execute_result"
    }
   ],
   "source": [
    "45 * 99"
   ]
  },
  {
   "cell_type": "markdown",
   "id": "b7e550dd",
   "metadata": {},
   "source": [
    "Python supports the following arithmetic operations:\n",
    "\n",
    "| Operator | Symbol |\n",
    "|---|---|\n",
    "| Addition | `+` |\n",
    "| Subtraction | `-` |\n",
    "| Multiplication | `*` |\n",
    "| Division | `/` |\n",
    "| Power | `**` |\n",
    "\n",
    " The order of operations is determined by [BIDMAS](https://www.bbc.co.uk/bitesize/topics/znmtsbk/articles/zj29dxs). For example, in the following expression, the division is performed first and then the addition, so the result is $3 + \\frac{4}{2} = 5$."
   ]
  },
  {
   "cell_type": "code",
   "execution_count": 2,
   "id": "ba188063",
   "metadata": {},
   "outputs": [
    {
     "data": {
      "text/plain": [
       "5.0"
      ]
     },
     "execution_count": 2,
     "metadata": {},
     "output_type": "execute_result"
    }
   ],
   "source": [
    "3 + 4 / 2"
   ]
  },
  {
   "cell_type": "markdown",
   "id": "711cc27f",
   "metadata": {},
   "source": [
    "Brackets can be used to control the order in which the parts of an expression are computed. For example, to compute $\\frac{3 + 4}{2}$ we use brackets so that the addition is carried out first:"
   ]
  },
  {
   "cell_type": "code",
   "execution_count": 3,
   "id": "2623f247",
   "metadata": {},
   "outputs": [
    {
     "data": {
      "text/plain": [
       "3.5"
      ]
     },
     "execution_count": 3,
     "metadata": {},
     "output_type": "execute_result"
    }
   ],
   "source": [
    "(3 + 4) / 2"
   ]
  },
  {
   "cell_type": "markdown",
   "id": "c9f2389f",
   "metadata": {},
   "source": [
    "Note that to calculate powers, use the `**` operator (not `^` which is used is some other programming languages). For example, the following expression calculates $8^3$:"
   ]
  },
  {
   "cell_type": "code",
   "execution_count": 4,
   "id": "9d9ef92a",
   "metadata": {},
   "outputs": [
    {
     "data": {
      "text/plain": [
       "512"
      ]
     },
     "execution_count": 4,
     "metadata": {},
     "output_type": "execute_result"
    }
   ],
   "source": [
    "8 ** 3"
   ]
  },
  {
   "cell_type": "markdown",
   "id": "60834332",
   "metadata": {},
   "source": [
    "```{exercise}\n",
    "Use Python to calculate the value of $\\frac{-5 + \\sqrt{5^2 - 4}}{2}$.\n",
    "\n",
    "Hint: $\\sqrt{x} = x^{0.5}$.\n",
    "```\n",
    "\n",
    "````{admonition} Solution\n",
    ":class: solution, dropdown\n",
    "\n",
    "```{code-block} python\n",
    "(-5 + (5**2 - 4)**0.5) / 2\n",
    "```\n",
    "```none\n",
    "-0.20871215252208009\n",
    "````\n",
    "\n",
    "## Variables and `print`\n",
    "\n",
    "A **variable** is a named storage location in the computer's memory which we can use later in our computations. The following two lines of code create two variables, `speed` with value `35` and `double_speed` with value `2 * 35`:"
   ]
  },
  {
   "cell_type": "code",
   "execution_count": 5,
   "id": "838bafbc",
   "metadata": {},
   "outputs": [],
   "source": [
    "speed = 35                 \n",
    "double_speed = speed * 2   "
   ]
  },
  {
   "cell_type": "markdown",
   "id": "7c4019a2",
   "metadata": {},
   "source": [
    "If you execute these two lines of code, nothing appears to happen. This is because assigment operations do not cause Python to generate any output. To display the value of a variable, use the `print` function:"
   ]
  },
  {
   "cell_type": "code",
   "execution_count": 6,
   "id": "0f0bbb4e",
   "metadata": {},
   "outputs": [
    {
     "name": "stdout",
     "output_type": "stream",
     "text": [
      "35\n",
      "70\n"
     ]
    }
   ],
   "source": [
    "speed = 35                 \n",
    "double_speed = speed * 2   \n",
    "\n",
    "print(speed)\n",
    "print(double_speed)"
   ]
  },
  {
   "cell_type": "markdown",
   "id": "54c3adb8",
   "metadata": {},
   "source": [
    "A single print statement can be used to display multiple values. Separate each value by a comma `,` and use double quotes `\"` for literal text:"
   ]
  },
  {
   "cell_type": "code",
   "execution_count": 7,
   "id": "a0e7107b",
   "metadata": {},
   "outputs": [
    {
     "name": "stdout",
     "output_type": "stream",
     "text": [
      "The speed is 35 and double speed is 70\n"
     ]
    }
   ],
   "source": [
    "print(\"The speed is\", speed, \"and double speed is\", double_speed)"
   ]
  },
  {
   "cell_type": "markdown",
   "id": "49b3a732",
   "metadata": {},
   "source": [
    "### Example\n",
    "\n",
    "Suppose we would like to calculate the solutions to the equation\n",
    "\n",
    "$$x^2 + 5x + 4 = 0.$$\n",
    "\n",
    "The following code uses the quadratic formula to calculate and display one solution to the equation:"
   ]
  },
  {
   "cell_type": "code",
   "execution_count": 8,
   "id": "74eee1f7",
   "metadata": {},
   "outputs": [
    {
     "name": "stdout",
     "output_type": "stream",
     "text": [
      "Solution: -1.0\n"
     ]
    }
   ],
   "source": [
    "a = 1\n",
    "b = 5\n",
    "c = 4\n",
    "\n",
    "first_solution = (-b + (b**2 - 4*a*c)**0.5) / (2*a)\n",
    "\n",
    "print(\"Solution:\", first_solution)"
   ]
  },
  {
   "cell_type": "markdown",
   "id": "9d4c6c2f",
   "metadata": {},
   "source": [
    "````{exercise}\n",
    "Complete the code so that it prints the **two** solutions to the quadratic equation $x^2 + 5x + 4 = 0$. The output should look like\n",
    "\n",
    "```none\n",
    "The two solutions are -1.0 and -4.0\n",
    "```\n",
    "````\n",
    "\n",
    "````{admonition} Solution\n",
    ":class: solution, dropdown\n",
    "\n",
    "```{code-block} python\n",
    "a = 1\n",
    "b = 5\n",
    "c = 4\n",
    "\n",
    "first_solution = (-b + (b**2 - 4*a*c)**0.5) / (2*a)\n",
    "secnd_solution = (-b - (b**2 - 4*a*c)**0.5) / (2*a)\n",
    "\n",
    "print(\"The two solutions are\", first_solution, \"and\", secnd_solution)\n",
    "```\n",
    "````"
   ]
  },
  {
   "cell_type": "markdown",
   "id": "5774451f",
   "metadata": {},
   "source": [
    "### Variable naming rules\n",
    "\n",
    "* A variable name can only contain alpha-numeric characters and underscores `A-Z`, `a-z`, `0-9`, and `_`\n",
    "* A variable name cannot start with a number\n",
    "* Variable names are case-sensitive (`age`, `Age` and `AGE` are three different variables)\n",
    "\n",
    "It is good practice to stick to a naming convention to make your code more readable, maintainable and consistent. Four of the main conventions are:\n",
    "\n",
    "| Name         | Description                                                         |\n",
    "| ------------ | ------------------------------------------------------------------- |\n",
    "| `PascalCase` | Spaces are removed and the first letter of each word is capitalised |\n",
    "| `camelCase`  | The same as PascalCase, but with the first letter in lower case     |\n",
    "| `snake_case` | All lower case, with spaces replaced by underscores                 |\n",
    "| `kebab-case` | All lower case, with spaces replaced by dashes                      |\n",
    "\n",
    ":::{warning}\n",
    "Beware of accidentally renaming Python keywords. The following is correct Python but a Very Bad Idea because it renames the `print` function, which will result in some very unusual errors:\n",
    "\n",
    "```\n",
    "print = 5\n",
    "```\n",
    ":::"
   ]
  },
  {
   "cell_type": "markdown",
   "id": "72c261d5",
   "metadata": {},
   "source": [
    "### Updating variables \n",
    "\n",
    "We can use assignment to change the value of a variable. Take a look at the following example, which increases the value of a variable by `2`:"
   ]
  },
  {
   "cell_type": "code",
   "execution_count": 9,
   "id": "2b8521b2",
   "metadata": {},
   "outputs": [
    {
     "name": "stdout",
     "output_type": "stream",
     "text": [
      "Original speed: 5\n",
      "New speed: 7\n"
     ]
    }
   ],
   "source": [
    "speed = 5\n",
    "\n",
    "print(\"Original speed:\", speed)\n",
    "\n",
    "speed = speed + 2\n",
    "\n",
    "print(\"New speed:\", speed)"
   ]
  },
  {
   "cell_type": "markdown",
   "id": "0b2b1465",
   "metadata": {},
   "source": [
    "The line\n",
    "\n",
    "```\n",
    "speed = speed + 2\n",
    "```\n",
    "\n",
    "evaluates the expression on the right of the equals sign (`speed + 2`) and *then* places the result into the variable on the left (`speed`), resulting in the value of the variable `speed` increasing by 2.\n",
    "\n",
    "````{exercise}\n",
    "\n",
    "Complete the code below so that it divides `v` by `5` three times, printing its value each time.\n",
    "\n",
    "\n",
    "```{code}\n",
    "v = 1000\n",
    "print(\"v:\", v)\n",
    "```\n",
    "\n",
    "The output should look something like:\n",
    "\n",
    "```none\n",
    "v: 1000\n",
    "v: 500\n",
    "v: 250\n",
    "v: 125\n",
    "```\n",
    "\n",
    "````\n",
    "\n",
    "````{admonition} Solution\n",
    ":class: solution, dropdown\n",
    "\n",
    "```{code-block} python\n",
    "v = 1000\n",
    "print(\"v:\", v)\n",
    "v = v / 5\n",
    "print(\"v:\", v)\n",
    "v = v / 5\n",
    "print(\"v:\", v)\n",
    "v = v / 5\n",
    "print(\"v:\", v)\n",
    "```\n",
    "\n",
    "````  \n",
    "\n",
    "````{note}\n",
    "The assignment operator `=` is not like equality in mathematics. It is an assignment operator, \n",
    "which first evaluates the expression on the right, and then assigns it to the variable on the left. The following is nonsense and will result in an error:\n",
    "\n",
    "```{code}\n",
    "5 = x\n",
    "```\n",
    "\n",
    "````\n",
    "\n",
    "\n",
    "## Comments\n",
    "\n",
    "A Python comment is any text that begin with a `#` character Comments are ignored by the Python interpreter and are useful for adding descriptive text to your code. For example, in the following code\n",
    "\n",
    "```\n",
    "# Set the value of speed to 10\n",
    "speed = 10\n",
    "```\n",
    "\n",
    "the line `# Set the value of speed to 10` is ignored by Python.\n",
    "\n",
    "It is a good idea to get in the habit of adding comments to your code to help the reader understand what is doing.\n",
    "\n",
    "\n",
    "## Number types\n",
    "\n",
    "Every Python variable has a **data type** as well as a value. Python understandings two important number types, which are:\n",
    "\n",
    "* **integers** (whole numbers) \n",
    "* **floating point numbers** (decimal values)\n",
    "\n",
    "When we specify a number in code it is important to understand which type we are creating. If the number inclues a `.` then Python always creates a float, otherwise an integer.\n",
    "\n",
    "```{code}\n",
    "x = 5     # this is an integer\n",
    "y = 5.    # this is a float\n",
    "```\n",
    "\n",
    "We often use [scientific notation](https://en.wikipedia.org/wiki/Scientific_notation) to represent numbers which are very large or very small. For example, we might write 1.2 million as\n",
    "\n",
    "$$1.2 \\times 10^6$$\n",
    "\n",
    "where $1.2$ is called the **mantissa** and $6$ is called the **exponent**. Python uses an `e` symbol to separate the mantissa and exponent when using scientific notation."
   ]
  },
  {
   "cell_type": "code",
   "execution_count": 10,
   "id": "8b6cfbf2",
   "metadata": {},
   "outputs": [
    {
     "data": {
      "text/plain": [
       "1200000.0"
      ]
     },
     "execution_count": 10,
     "metadata": {},
     "output_type": "execute_result"
    }
   ],
   "source": [
    "1.2e6"
   ]
  },
  {
   "cell_type": "markdown",
   "id": "7f3d4b28",
   "metadata": {},
   "source": [
    "<br> \n",
    "\n",
    "The table below gives some examples of numbers and their type/description\n",
    "\n",
    "|Number|Type|Description|\n",
    "|---|---|---|\n",
    "|`5`|`integer`|A whole number|\n",
    "|`-5`|`integer`|A negative integer|\n",
    "|`0.5`|`float`|A number with decimal part|\n",
    "|`5.0`|`float`|Including a decimal point always results in type `float`|\n",
    "|`5e6`|`float`|$5\\times10^6$|\n",
    "|`2.34e-5`|`float`|$2.34\\times10^{-5}$|\n",
    "\n",
    "### Example\n",
    "\n",
    "How long does it take for light to travel from the Moon to the Earth, given that the Moon is $384.4~844~\\mathrm{million~m}$ from the Earth and the speed of light is $299.8\\mathrm{~million~m/s}$?"
   ]
  },
  {
   "cell_type": "code",
   "execution_count": 11,
   "id": "74271b20",
   "metadata": {},
   "outputs": [
    {
     "name": "stdout",
     "output_type": "stream",
     "text": [
      "Time for light to travel from Moon to Earth: 1.2821881254169447 seconds.\n"
     ]
    }
   ],
   "source": [
    "# set the value of the speed of light in m/s\n",
    "c = 299.8e6\n",
    "\n",
    "# set the value of the distance in m\n",
    "dis = 384.4e6\n",
    "\n",
    "# calculate the time in s\n",
    "t = dis / c\n",
    "\n",
    "print(\"Time for light to travel from Moon to Earth:\", t, \"seconds.\")\n"
   ]
  },
  {
   "cell_type": "markdown",
   "id": "350cbb6b",
   "metadata": {},
   "source": [
    "So it takes $1.282~\\mathrm{s}$ for light to reach the Earth from the Moon.\n",
    "\n",
    "```{attention}\n",
    "Pay attention to significant figures. Python calculated a value of `1.2821881254169447` but the quantities were only given to 4 significant figures, so our answer should not quote more than 4 signinficant figures too. \n",
    "```\n",
    "\n",
    "````{exercise}\n",
    "\n",
    "In physics, the fine structure constant $\\alpha$ is given by\n",
    "\n",
    "$$\\alpha = e^2/2\\epsilon_0h$$\n",
    "\n",
    "where $e=1.60 \\times 10^{-19}~\\mathrm{C}$ is the elementary charge, $\\epsilon_0 = 8.85~\\mathrm{Fm}^{-1}$ is the electric permittivity of free space, and $h = 6.63~ \\mathrm{JHz}^{-1}$ is Planck's constant.\n",
    "\n",
    "Calculate the value of $\\alpha$ and check your answer against the value on the [Wikipedia page](https://en.wikipedia.org/wiki/Fine-structure_constant).\n",
    "````\n",
    "\n",
    "````{admonition} Solution\n",
    ":class: solution, dropdown\n",
    "\n",
    "```{code-block} python\n",
    "# elementary charge\n",
    "e = 1.6e-19\n",
    "\n",
    "# permittivity\n",
    "epsilon_0 = 8.85\n",
    "\n",
    "# Planck's constant\n",
    "h = 6.63\n",
    "\n",
    "# Calculate fine structure constant\n",
    "\n",
    "alpha = e ** 2 / (2 * epsilon_0 * h)\n",
    "\n",
    "print(\"Fine structure constant:\", alpha)\n",
    "```\n",
    "\n",
    "Note that we avoid Greek characters such as `α` in our Python code since Python might not understand it. Stick to the regular alphabet!\n",
    "````\n",
    "\n",
    "## Getting Help\n",
    "\n",
    "`print` is the first of many Python in-built functions that we will study. You can find out more about Python functions by using the `help()` function. Let's learn about the `print` function."
   ]
  },
  {
   "cell_type": "code",
   "execution_count": 12,
   "id": "cb7d82c1",
   "metadata": {},
   "outputs": [
    {
     "name": "stdout",
     "output_type": "stream",
     "text": [
      "Help on built-in function print in module builtins:\n",
      "\n",
      "print(...)\n",
      "    print(value, ..., sep=' ', end='\\n', file=sys.stdout, flush=False)\n",
      "    \n",
      "    Prints the values to a stream, or to sys.stdout by default.\n",
      "    Optional keyword arguments:\n",
      "    file:  a file-like object (stream); defaults to the current sys.stdout.\n",
      "    sep:   string inserted between values, default a space.\n",
      "    end:   string appended after the last value, default a newline.\n",
      "    flush: whether to forcibly flush the stream.\n",
      "\n"
     ]
    }
   ],
   "source": [
    "help(print)"
   ]
  },
  {
   "cell_type": "markdown",
   "id": "e644d0dc",
   "metadata": {},
   "source": [
    "For example, from this we can see how to change the default seperator using `sep`:"
   ]
  },
  {
   "cell_type": "code",
   "execution_count": 13,
   "id": "0237bc40",
   "metadata": {},
   "outputs": [
    {
     "name": "stdout",
     "output_type": "stream",
     "text": [
      "1-2-3\n"
     ]
    }
   ],
   "source": [
    "print(\"1\", \"2\", \"3\", sep=\"-\")"
   ]
  }
 ],
 "metadata": {
  "jupytext": {
   "text_representation": {
    "extension": ".md",
    "format_name": "myst",
    "format_version": 0.13,
    "jupytext_version": "1.15.0"
   }
  },
  "kernelspec": {
   "display_name": "Python 3 (ipykernel)",
   "language": "python",
   "name": "python3"
  },
  "language_info": {
   "codemirror_mode": {
    "name": "ipython",
    "version": 3
   },
   "file_extension": ".py",
   "mimetype": "text/x-python",
   "name": "python",
   "nbconvert_exporter": "python",
   "pygments_lexer": "ipython3",
   "version": "3.7.9"
  },
  "source_map": [
   12,
   29,
   31,
   45,
   49,
   53,
   55,
   59,
   61,
   83,
   86,
   90,
   96,
   100,
   102,
   112,
   120,
   145,
   171,
   177,
   185,
   277,
   279,
   298,
   310,
   356,
   358,
   362
  ]
 },
 "nbformat": 4,
 "nbformat_minor": 5
}