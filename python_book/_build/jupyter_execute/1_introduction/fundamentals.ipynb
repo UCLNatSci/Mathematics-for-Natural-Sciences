{
 "cells": [
  {
   "cell_type": "markdown",
   "id": "653befd6",
   "metadata": {},
   "source": [
    "# Fundamentals\n",
    "\n",
    "After completing this chapter you should be able to:\n",
    "\n",
    "* Perform arithmetic calculations using numbers (BIDMAS)\n",
    "* Distinguish between integers and floating point values\n",
    "* Use scientific notation\n",
    "* Define and work with numeric variables (int or float)\n",
    "\n",
    "```{attention}\n",
    "Do the exercises in the notebook file `week1_python_fundamentals.ipynb` which is in the `week1` folder of your Cocalc Project.\n",
    "```\n",
    "\n",
    "## Arithmetic expressions\n",
    "\n",
    "We can use Python like a scientific calculator to evaluate a mathematical expression, such as 45 times 99. When you run the code, Python evaluates the expression and displays the result underneath the code cell:"
   ]
  },
  {
   "cell_type": "code",
   "execution_count": 1,
   "id": "72e7e467",
   "metadata": {},
   "outputs": [
    {
     "data": {
      "text/plain": [
       "4455"
      ]
     },
     "execution_count": 1,
     "metadata": {},
     "output_type": "execute_result"
    }
   ],
   "source": [
    "45 * 99"
   ]
  },
  {
   "cell_type": "markdown",
   "id": "debd764c",
   "metadata": {},
   "source": [
    "Python supports the following arithmetic operations:\n",
    "\n",
    "| Operator | Symbol |\n",
    "|---|---|\n",
    "| Addition | `+` |\n",
    "| Subtraction | `-` |\n",
    "| Multiplication | `*` |\n",
    "| Division | `/` |\n",
    "| Power | `**` |\n",
    "\n",
    "\n",
    "\n",
    "\n",
    " The order of operations is determined by [BIDMAS](https://www.bbc.co.uk/bitesize/topics/znmtsbk/articles/zj29dxs). For example, in the following expression, the division is performed first and then the addition, so the result is $3 + \\frac{4}{2} = 5$."
   ]
  },
  {
   "cell_type": "code",
   "execution_count": 2,
   "id": "dda0573b",
   "metadata": {},
   "outputs": [
    {
     "data": {
      "text/plain": [
       "5.0"
      ]
     },
     "execution_count": 2,
     "metadata": {},
     "output_type": "execute_result"
    }
   ],
   "source": [
    "3 + 4 / 2"
   ]
  },
  {
   "cell_type": "markdown",
   "id": "03b4a4d9",
   "metadata": {},
   "source": [
    "Brackets can be used to control the order in which the parts of an expression are computed. For example, to compute $\\frac{3 + 4}{2}$ we use brackets so that the addition is carried out first:"
   ]
  },
  {
   "cell_type": "code",
   "execution_count": 3,
   "id": "8d35e41d",
   "metadata": {},
   "outputs": [
    {
     "data": {
      "text/plain": [
       "3.5"
      ]
     },
     "execution_count": 3,
     "metadata": {},
     "output_type": "execute_result"
    }
   ],
   "source": [
    "(3 + 4) / 2"
   ]
  },
  {
   "cell_type": "markdown",
   "id": "0f3e0e27",
   "metadata": {},
   "source": [
    "Note that to calculate powers, use the `**` operator, not \"^\". For example, the following expression gives $8^3$"
   ]
  },
  {
   "cell_type": "code",
   "execution_count": 4,
   "id": "f759062c",
   "metadata": {},
   "outputs": [
    {
     "data": {
      "text/plain": [
       "512"
      ]
     },
     "execution_count": 4,
     "metadata": {},
     "output_type": "execute_result"
    }
   ],
   "source": [
    "8 ** 3"
   ]
  },
  {
   "cell_type": "markdown",
   "id": "9116e01a",
   "metadata": {},
   "source": [
    "## Number types\n",
    "\n",
    "Every Python variable has a **data type** as well as a value. Python understandings two important number types, which are:\n",
    "\n",
    "* **integers** (whole numbers) \n",
    "* **floating point numbers** (decimal values)\n",
    "\n",
    "When we specify a number in code it is important to understand which type we are creating. If the number inclues a `.` then Python always creates a float, otherwise an integer.\n",
    "\n",
    "```{code}\n",
    "5     #this is an integer\n",
    "5.    #this is a float\n",
    "```\n",
    "\n",
    "We often use [scientific notation](https://en.wikipedia.org/wiki/Scientific_notation) to represent numbers which are very large or very small. For example, we might write 1.2 million as\n",
    "\n",
    "$$1.2 \\times 10^6$$\n",
    "\n",
    "where $1.2$ is called the **mantissa** and $6$ is called the **exponent**. Python uses an `e` symbol to separate the mantissa and exponent when using scientific notation."
   ]
  },
  {
   "cell_type": "code",
   "execution_count": 5,
   "id": "90f2375e",
   "metadata": {},
   "outputs": [
    {
     "data": {
      "text/plain": [
       "1200000.0"
      ]
     },
     "execution_count": 5,
     "metadata": {},
     "output_type": "execute_result"
    }
   ],
   "source": [
    "1.2e6"
   ]
  },
  {
   "cell_type": "markdown",
   "id": "e775451e",
   "metadata": {},
   "source": [
    "<br> \n",
    "\n",
    "The table below gives some examples of numbers and their type/description\n",
    "\n",
    "|Number|Type|Description|\n",
    "|---|---|---|\n",
    "|`5`|`integer`|A whole number|\n",
    "|`-5`|`integer`|A negative integer|\n",
    "|`0.5`|`float`|A number with decimal part|\n",
    "|`5.0`|`float`|Including a decimal point always results in type `float`|\n",
    "|`5e6`|`float`|$5\\times10^6$|\n",
    "|`2.34e-5`|`float`|$2.34\\times10^{-5}$|\n",
    "\n",
    "```{exercise}\n",
    "Use Python to calculate the value of $\\frac{-5 + \\sqrt{5^2 - 4}}{2}$.\n",
    "\n",
    "Hint: $\\sqrt{x} = x^{0.5}$.\n",
    "```\n",
    "\n",
    "````{admonition} Solution\n",
    ":class: solution, dropdown\n",
    "\n",
    "```{code-block} python\n",
    "(-5 + (5**2 - 4)**0.5) / 2\n",
    "```\n",
    "````"
   ]
  },
  {
   "cell_type": "markdown",
   "id": "393a6bf9",
   "metadata": {},
   "source": [
    "## Defining variables\n",
    "\n",
    "A **variable** is a named storage location in the computer's memory so that we can use it later in our computations. We use **assignment** to set the value of a variable:"
   ]
  },
  {
   "cell_type": "code",
   "execution_count": 6,
   "id": "30d8a6c6",
   "metadata": {},
   "outputs": [],
   "source": [
    "speed = 35                 #create a new variable named 'speed' and assign the value 35\n",
    "double_speed = speed * 2   #create new variable named 'double_speed'"
   ]
  },
  {
   "cell_type": "markdown",
   "id": "b9c36cf9",
   "metadata": {},
   "source": [
    "We can use the `print` function to display the value of a variable. When you run the code cell, Python displays the results below the code cell:"
   ]
  },
  {
   "cell_type": "code",
   "execution_count": 7,
   "id": "5d63a5b7",
   "metadata": {},
   "outputs": [
    {
     "name": "stdout",
     "output_type": "stream",
     "text": [
      "35\n",
      "70\n"
     ]
    }
   ],
   "source": [
    "print(speed)\n",
    "print(double_speed)"
   ]
  },
  {
   "cell_type": "markdown",
   "id": "fef9f4cd",
   "metadata": {},
   "source": [
    "A single print statement can be used to display multiple values. Separate each value by a comma `,` and use double quotes `\"` for literal text:"
   ]
  },
  {
   "cell_type": "code",
   "execution_count": 8,
   "id": "f7629651",
   "metadata": {},
   "outputs": [
    {
     "name": "stdout",
     "output_type": "stream",
     "text": [
      "The value of speed: 35\n",
      "The value of double_speed: 70\n"
     ]
    }
   ],
   "source": [
    "print(\"The value of speed:\", speed)\n",
    "print(\"The value of double_speed:\", double_speed)"
   ]
  },
  {
   "cell_type": "markdown",
   "id": "dd5d08ff",
   "metadata": {},
   "source": [
    "````{exercise}\n",
    "Complete the following code so that it prints the **two** solutions to the quadratic equation $x^2 + 5x + 4 = 0$:\n",
    "\n",
    "```\n",
    "a = 1\n",
    "b = 5\n",
    "c = 4\n",
    "\n",
    "first_solution = (-b + (b**2 - 4*a*c)**0.5) / (2*a)\n",
    "\n",
    "print(\"First Solution:\", first_solution)\n",
    "```\n",
    "````\n",
    "\n",
    "````{admonition} Solution\n",
    ":class: solution, dropdown\n",
    "\n",
    "```{code-block} python\n",
    "a = 1\n",
    "b = 5\n",
    "c = 4\n",
    "\n",
    "first_solution = (-b + (b**2 - 4*a*c)**0.5) / (2*a)\n",
    "secnd_solution = (-b - (b**2 - 4*a*c)**0.5) / (2*a)\n",
    "\n",
    "print(\"First Solution:\", first_solution)\n",
    "print(\"Second Solution:\",secnd_solution)\n",
    "```\n",
    "````\n",
    "\n",
    "\n",
    "````{warning}\n",
    "The assignment operator `=` is not like equality in mathematics. Python has another operator `==` which tests for equality.\n",
    "\n",
    "The Python assignment operator `=` first evaluates the expression on the right, and then assigns it to the variable on the left. The following is nonsense and will result in an error:\n",
    "\n",
    "```{code}\n",
    "5 = x\n",
    "```\n",
    "\n",
    "````"
   ]
  },
  {
   "cell_type": "markdown",
   "id": "aed04e19",
   "metadata": {},
   "source": [
    "<h4> Variable naming rules</h4>  \n",
    "\n",
    "* A variable name can only contain alpha-numeric characters and underscores `A-Z`, `a-z`, `0-9`, and `_`\n",
    "\n",
    "* A variable name cannot start with a number\n",
    "* Variable names are case-sensitive (`age`, `Age` and `AGE` are three different variables)\n",
    "\n",
    "It is good practice to stick to a naming convention to make your code more readable, maintainable and consistent. Four of the main conventions are:\n",
    "\n",
    "| Name         | Description                                                         |\n",
    "| ------------ | ------------------------------------------------------------------- |\n",
    "| `PascalCase` | Spaces are removed and the first letter of each word is capitalised |\n",
    "| `camelCase`  | The same as PascalCase, but with the first letter in lower case     |\n",
    "| `snake_case` | All lower case, with spaces replaced by underscores                 |\n",
    "| `kebab-case` | All lower case, with spaces replaced by dashes                      |\n",
    "\n",
    ":::{warning}\n",
    "Beware of accidentally renaming Python keywords. The following is correct Python but a Very Bad Idea because it renames the `print` function, which will result in some unusual errors:\n",
    "\n",
    "```\n",
    "print = 5\n",
    "\n",
    "print(print) # this won't work.\n",
    "```\n",
    ":::"
   ]
  },
  {
   "cell_type": "markdown",
   "id": "0bbf666d",
   "metadata": {},
   "source": [
    "<h4> Updating variables </h4>\n",
    "\n",
    "We can use assignment to change the value of a variable. Take a look at the following example, in which the same variable name appears on both sides of the equals sign:"
   ]
  },
  {
   "cell_type": "code",
   "execution_count": 9,
   "id": "a8e5c433",
   "metadata": {},
   "outputs": [
    {
     "name": "stdout",
     "output_type": "stream",
     "text": [
      "Original speed: 35\n",
      "New speed: 37\n"
     ]
    }
   ],
   "source": [
    "print(\"Original speed:\", speed)\n",
    "\n",
    "speed = speed + 2 # Increase the value of speed by 2\n",
    "\n",
    "print(\"New speed:\", speed)"
   ]
  },
  {
   "cell_type": "markdown",
   "id": "45e87b98",
   "metadata": {},
   "source": [
    "This is a legal statement because Python first evaluates the expression on the right of the equals sign (`speed + 2`) and *then* places the result into the variable on the left.\n",
    "\n",
    "````{exercise}\n",
    "\n",
    "Complete the code below so that it divides `v` by `5` three times, printing its value each time.\n",
    "```{code}\n",
    "v = 1000\n",
    "print(\"v:\", v)\n",
    "```\n",
    "````\n",
    "\n",
    "````{admonition} Solution\n",
    ":class: solution, dropdown\n",
    "\n",
    "```{code-block} python\n",
    "v = 1000\n",
    "print(\"v:\", v)\n",
    "v = v / 5\n",
    "print(\"v:\", v)\n",
    "v = v / 5\n",
    "print(\"v:\", v)\n",
    "v = v / 5\n",
    "print(\"v:\", v)\n",
    "```\n",
    "\n",
    "````"
   ]
  },
  {
   "cell_type": "markdown",
   "id": "6b82e0cb",
   "metadata": {},
   "source": [
    "## Getting Help\n",
    "\n",
    "`print` is the first of many Python in-built functions that we will study. You can find out more about Python functions by using the `help()` function. Let's learn about the `print` function."
   ]
  },
  {
   "cell_type": "code",
   "execution_count": 10,
   "id": "2fffe8fc",
   "metadata": {},
   "outputs": [
    {
     "name": "stdout",
     "output_type": "stream",
     "text": [
      "Help on built-in function print in module builtins:\n",
      "\n",
      "print(...)\n",
      "    print(value, ..., sep=' ', end='\\n', file=sys.stdout, flush=False)\n",
      "    \n",
      "    Prints the values to a stream, or to sys.stdout by default.\n",
      "    Optional keyword arguments:\n",
      "    file:  a file-like object (stream); defaults to the current sys.stdout.\n",
      "    sep:   string inserted between values, default a space.\n",
      "    end:   string appended after the last value, default a newline.\n",
      "    flush: whether to forcibly flush the stream.\n",
      "\n"
     ]
    }
   ],
   "source": [
    "help(print)"
   ]
  },
  {
   "cell_type": "markdown",
   "id": "96c1ca06",
   "metadata": {},
   "source": [
    "For example, from this we can see how to change the default seperator using `sep`:"
   ]
  },
  {
   "cell_type": "code",
   "execution_count": 11,
   "id": "2805db0c",
   "metadata": {},
   "outputs": [
    {
     "name": "stdout",
     "output_type": "stream",
     "text": [
      "1-2-3\n"
     ]
    }
   ],
   "source": [
    "print(\"1\", \"2\", \"3\", sep=\"-\")"
   ]
  }
 ],
 "metadata": {
  "jupytext": {
   "text_representation": {
    "extension": ".md",
    "format_name": "myst",
    "format_version": 0.13,
    "jupytext_version": "1.15.0"
   }
  },
  "kernelspec": {
   "display_name": "Python 3 (ipykernel)",
   "language": "python",
   "name": "python3"
  },
  "language_info": {
   "codemirror_mode": {
    "name": "ipython",
    "version": 3
   },
   "file_extension": ".py",
   "mimetype": "text/x-python",
   "name": "python",
   "nbconvert_exporter": "python",
   "pygments_lexer": "ipython3",
   "version": "3.7.9"
  },
  "source_map": [
   12,
   31,
   33,
   50,
   54,
   58,
   60,
   64,
   68,
   90,
   92,
   121,
   127,
   130,
   134,
   137,
   141,
   144,
   188,
   217,
   223,
   229,
   259,
   265,
   267,
   271
  ]
 },
 "nbformat": 4,
 "nbformat_minor": 5
}