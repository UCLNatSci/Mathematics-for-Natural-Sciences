{
 "cells": [
  {
   "attachments": {},
   "cell_type": "markdown",
   "metadata": {
    "collapsed": false
   },
   "source": [
    "# Computation and Plotting\n",
    "\n",
    "Python is especially useful for modelling physical systems. We'll illustrate this with a simple example from mechanics: the motion of an object under gravity.\n",
    "\n",
    "```{figure} cannon.jpg\n",
    "---\n",
    "height: 150px\n",
    "name: cannon\n",
    "---\n",
    "A projectile fired horizontally from a cannon.\n",
    "```\n",
    "\n",
    "A projectile fired horizontally at a speed $v_0 = 5~\\mathrm{m/s}$ from an initial height $y_0 = 200~\\mathrm{m}$ follows a trajectory given by the following equations:\n",
    "\n",
    "$$x(t) = v_0t\\\\\n",
    "y(t) = y_0-\\frac{1}{2}gt^2$$\n",
    "\n",
    "We will write a program which simulates the trajectory of the projectile. That is, we would like to calulate the $x$, $y$ position of the projectile at a given time $t$.\n",
    "\n",
    "Let's start by calculating and printing the $x$ position at $t=3~\\mathrm{s}$:"
   ]
  },
  {
   "cell_type": "code",
   "execution_count": 7,
   "metadata": {
    "collapsed": false
   },
   "outputs": [
    {
     "name": "stdout",
     "output_type": "stream",
     "text": [
      "t (seconds): 3\n",
      "y (metres): 155.855\n"
     ]
    }
   ],
   "source": [
    "import numpy as np\n",
    "import matplotlib.pyplot as plt\n",
    "\n",
    "# set values of constants\n",
    "\n",
    "v_0 = 5     # initial velocity\n",
    "y_0 = 200   # initial y position\n",
    "g = 9.81    # acceleration due to gravity\n",
    "\n",
    "# calculate y at time t=3\n",
    "\n",
    "t = 3\n",
    "y = y_0 - 0.5 * g * t ** 2\n",
    "\n",
    "print(\"t (seconds):\", t)\n",
    "print(\"y (metres):\", y)"
   ]
  },
  {
   "attachments": {},
   "cell_type": "markdown",
   "metadata": {
    "collapsed": false
   },
   "source": [
    "First, we set the value of variables `v_0`, `y_0` and `g` and `t`, then calculate the value of `y` using the expression `y_0 - 0.5 * g * t ** 2`. Notice that we use `*` for multiplication but `**` for exponentiation.\n",
    "\n",
    "Finally we use the `print` fnction to display the output.\n",
    "\n",
    "**Exercise** Copy the above code and add two lines of code to calculate and print the $x$ position of the projectile."
   ]
  },
  {
   "attachments": {},
   "cell_type": "markdown",
   "metadata": {
    "collapsed": false
   },
   "source": [
    "By changing the value of `t` and re-running the code we could calculate the position of the projectile at any time we choose.\n",
    "\n",
    "> Estimate the time the projectile reaches the ground by changing `t` until `y` is zero (to the nearest metre)"
   ]
  },
  {
   "attachments": {},
   "cell_type": "markdown",
   "metadata": {
    "collapsed": false
   },
   "source": [
    "Next we'd like to plot the projectile trajectory on a graph, which will require the calculating `x` and `y` for a whole sequence of values of `t`. To do that, we will use an array."
   ]
  },
  {
   "attachments": {},
   "cell_type": "markdown",
   "metadata": {
    "collapsed": false
   },
   "source": [
    "\n",
    "An array is a sequence of values that can be manipulated as a single variable. You can think of an array like a vector from mathematics. The following code is identical to previous, except `t` is now an array of values."
   ]
  },
  {
   "cell_type": "code",
   "execution_count": 6,
   "metadata": {
    "collapsed": false
   },
   "outputs": [
    {
     "name": "stdout",
     "output_type": "stream",
     "text": [
      "t (seconds): [ 0.          1.33333333  2.66666667  4.          5.33333333  6.66666667\n",
      "  8.          9.33333333 10.66666667 12.        ]\n",
      "y (metres): [ 200.    191.28  165.12  121.52   60.48  -18.   -113.92 -227.28 -358.08\n",
      " -506.32]\n"
     ]
    }
   ],
   "source": [
    "import numpy as np\n",
    "\n",
    "# set values of constants\n",
    "\n",
    "v_0 = 5     # initial velocity\n",
    "y_0 = 200   # initial y position\n",
    "g = 9.81    # acceleration due to gravity\n",
    "\n",
    "# calculate y for integer values of t from 0 to 9\n",
    "\n",
    "t = np.linspace(0, 12, 10)\n",
    "y = y_0 - 0.5 * g * t ** 2\n",
    "\n",
    "print(\"t (seconds):\", t)\n",
    "print(\"y (metres):\", y)\n"
   ]
  },
  {
   "attachments": {},
   "cell_type": "markdown",
   "metadata": {
    "collapsed": false
   },
   "source": [
    "\n",
    "> Add code to calculate an array `x` representing the $x$ positions of the projectile.\n",
    "\n",
    ":::{admonition} Arrays\n",
    "An array is a sequence of values stored as a single variable. Use the code `np.linsapce(a, b, n)` to create an array of `n` evenly spaced numbers from `a` to `b`.\n",
    "```\n",
    "t = np.linspace(0, .9, 10)\n",
    "print(t)\n",
    "\n",
    "[0.  0.1 0.2 0.3 0.4 0.5 0.6 0.7 0.8 0.9]\n",
    "```\n",
    ":::"
   ]
  },
  {
   "attachments": {},
   "cell_type": "markdown",
   "metadata": {
    "collapsed": false
   },
   "source": [
    "The arrays `t` and `y` each contain 10 values. We can plot these values on a line graph:"
   ]
  },
  {
   "cell_type": "code",
   "execution_count": null,
   "metadata": {
    "collapsed": false
   },
   "outputs": [
    {
     "data": {
      "text/plain": [
       "[<matplotlib.lines.Line2D at 0x7f2987bd61c0>]"
      ]
     },
     "execution_count": 3,
     "metadata": {},
     "output_type": "execute_result"
    },
    {
     "data": {
      "image/png": "[encoded data removed]",
      "text/plain": [
       "<Figure size 360x360 with 1 Axes>"
      ]
     },
     "execution_count": 3,
     "metadata": {
      "image/png": {
       "height": 302,
       "width": 328
      },
      "needs_background": "light"
     },
     "output_type": "execute_result"
    }
   ],
   "source": [
    "plt.figure(figsize=(5,5))\n",
    "plt.plot(t, y)"
   ]
  },
  {
   "attachments": {},
   "cell_type": "markdown",
   "metadata": {
    "collapsed": false
   },
   "source": [
    "First, we imported another package `matplotlib.pyplot` which contains useful plotting functions. We then created a 5 by 5 figure and finally plotted `t` and `y` on the x- and y-axes respectively.\n",
    "\n",
    "> Plot two more graphs: `x` against `t` and `y` against `x`. Make sure each is on a separate set of axes!"
   ]
  },
  {
   "attachments": {},
   "cell_type": "markdown",
   "metadata": {
    "collapsed": false
   },
   "source": [
    "## Animation\n",
    "\n",
    "Our last step is to generate an animation of the projectile trajectory. The code to achieve this is shown below, but we won't study it in detail."
   ]
  },
  {
   "cell_type": "code",
   "execution_count": null,
   "metadata": {
    "collapsed": false,
    "tags": [
     "remove-output"
    ]
   },
   "outputs": [
    {
     "data": {
      "text/html": [
       "<img src=\"animation.gif?1463553089\">"
      ],
      "text/plain": [
       "<IPython.core.display.HTML object>"
      ]
     },
     "execution_count": 5,
     "metadata": {},
     "output_type": "execute_result"
    }
   ],
   "source": [
    "from matplotlib import animation\n",
    "from IPython.display import HTML, display\n",
    "import random\n",
    "\n",
    "filename = \"animation.gif\"\n",
    "# Number of animation frames equals the length of time array t\n",
    "frames = len(t)\n",
    "interval = 100\n",
    "\n",
    "def ganimate(frame):\n",
    "    plt.cla()\n",
    "    plt.scatter(t[frame], y[frame])\n",
    "    plt.xlim(0, 10)\n",
    "    plt.ylim(0, 200)\n",
    "    \n",
    "fig = plt.figure(figsize=(5, 5))\n",
    "anim = animation.FuncAnimation(fig, ganimate, frames=frames, interval=interval)\n",
    "anim.save(filename, writer='imagemagick')\n",
    "plt.close()\n",
    "\n",
    "__counter__ = str(random.randint(0,2e9))\n",
    "display(HTML('<img src=\"' + filename + '?' + __counter__ + '\">'))"
   ]
  },
  {
   "attachments": {},
   "cell_type": "markdown",
   "metadata": {
    "collapsed": false
   },
   "source": [
    "![](animation.gif)"
   ]
  },
  {
   "attachments": {},
   "cell_type": "markdown",
   "metadata": {
    "collapsed": false
   },
   "source": [
    "The key line is `plt.scatter(t[frame], y[frame])` which plots points from the arrays `t` and `y`.\n",
    "\n",
    "The lines `plt.xlim(0, 10)` and `plt.ylim(0, 200)` specify the limits of the x- and y-axes respectively.\n",
    "\n",
    "> Copy this code and change it so that it plots the $x, y$ position of the projectile (you will also need to change the x-axis limits)."
   ]
  },
  {
   "attachments": {},
   "cell_type": "markdown",
   "metadata": {
    "collapsed": false
   },
   "source": [
    "## Virtual Orrery (Optional)\n",
    "\n",
    "An [orrery](https://en.wikipedia.org/wiki/Orrery) is a mechanical device which simulates the motions of heavenly bodies in the Solar System. Your goal is to construct a virtual orrery using Python, a little like the one [here](https://www.schoolsobservatory.org/learn/astro/solsys/orrery/orr_go). This task is open-ended, and you are unlikely to complete the whole Solar System; just see how far you can get!\n",
    "\n",
    "Assuming (incorrectly!) that planets follow circular orbits, we can use the following equations to simulation their motion:\n",
    "\n",
    "$$ x(t) = d\\cos(2\\pi t/p) \\\\\n",
    "y(t) = d\\sin(2\\pi t/p)$$\n",
    "\n",
    "where $t$ is time in (Earth) days, $d$ is orbital diameter and $p$ is the orbital period in (Earth) days. Values of these parameters can be found in the following link:\n",
    "\n",
    "http://www.astronomynotes.com/tables/tablesb.htm\n",
    "\n",
    "First, simulate the orbit of the Earth around the sun for. Use `np.arange` to generate an array of 365 days, then calculate `x` and `y` arrays using the equations above. You will need to use the `numpy` functions `np.cos`, `np.sin` and constant `np.pi`. For `d` and `p` use the values in the link above. Plot the orbit on a graph, and animate it.\n",
    "\n",
    "Next, you could add in the orbits of Mercury and Venus. You will need to introduce new variables for the x and y position of these planets, you could call them `x_mercury`, `y_mercury` and so on.\n",
    "\n",
    "Simulating the moon's orbit is interesting: the orbit of the moon is relative to Earth, so you will have to add its arrays to the Earth's arrays."
   ]
  }
 ],
 "metadata": {
  "kernelspec": {
   "display_name": "Python 3 (system-wide)",
   "language": "python",
   "metadata": {
    "cocalc": {
     "description": "Python 3 programming language",
     "priority": 100,
     "url": "https://www.python.org/"
    }
   },
   "name": "python3",
   "resource_dir": "/ext/jupyter/kernels/python3"
  },
  "language_info": {
   "codemirror_mode": {
    "name": "ipython",
    "version": 3
   },
   "file_extension": ".py",
   "mimetype": "text/x-python",
   "name": "python",
   "nbconvert_exporter": "python",
   "pygments_lexer": "ipython3",
   "version": "3.7.9"
  }
 },
 "nbformat": 4,
 "nbformat_minor": 4
}
