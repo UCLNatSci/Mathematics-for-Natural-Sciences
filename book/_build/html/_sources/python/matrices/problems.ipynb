{
 "cells": [
  {
   "cell_type": "code",
   "execution_count": 9,
   "metadata": {},
   "outputs": [
    {
     "name": "stdout",
     "output_type": "stream",
     "text": [
      "[[1 0]\n",
      " [0 1]]\n",
      "[[1 0]\n",
      " [0 1]]\n",
      "[[-31  19]\n",
      " [ 18  -9]]\n",
      "[[7 2]\n",
      " [0 9]]\n"
     ]
    }
   ],
   "source": [
    "import numpy as np\n",
    "\n",
    "M = np.array([[1, 3], [2, 5]])\n",
    "\n",
    "M_inverse = np.array([[-5, 3], [2, -1]])\n",
    "\n",
    "print(np.dot(M, M_inverse))\n",
    "print(np.dot(M_inverse, M))\n",
    "\n",
    "X = np.dot(np.array([[7, 2], [0,9]]), M_inverse)\n",
    "\n",
    "print(X)\n",
    "\n",
    "print(np.dot(X, M))\n",
    "\n",
    "\n",
    "\n"
   ]
  }
 ],
 "metadata": {
  "kernelspec": {
   "display_name": "Python 3",
   "language": "python",
   "name": "python3"
  },
  "language_info": {
   "codemirror_mode": {
    "name": "ipython",
    "version": 3
   },
   "file_extension": ".py",
   "mimetype": "text/x-python",
   "name": "python",
   "nbconvert_exporter": "python",
   "pygments_lexer": "ipython3",
   "version": "3.7.9"
  },
  "orig_nbformat": 4
 },
 "nbformat": 4,
 "nbformat_minor": 2
}
