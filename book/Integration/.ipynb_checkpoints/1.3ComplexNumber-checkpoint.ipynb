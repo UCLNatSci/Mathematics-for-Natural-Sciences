{
 "cells": [
  {
   "cell_type": "markdown",
   "metadata": {},
   "source": [
    "# Complex Plan Visualisation"
   ]
  },
  {
   "cell_type": "code",
   "execution_count": 5,
   "metadata": {},
   "outputs": [
    {
     "data": {
      "application/vnd.jupyter.widget-view+json": {
       "model_id": "c0b576d0a41c4d078984826ebcbb908c",
       "version_major": 2,
       "version_minor": 0
      },
      "text/plain": [
       "interactive(children=(FloatSlider(value=0.0, description='Theta', max=6.283185307179586, min=-3.14159265358979…"
      ]
     },
     "metadata": {},
     "output_type": "display_data"
    }
   ],
   "source": [
    "from __future__ import print_function\n",
    "from ipywidgets import interact, interactive, fixed, interact_manual\n",
    "import ipywidgets as widgets\n",
    "import cmath\n",
    "import matplotlib.pyplot as plt\n",
    "from numpy import *\n",
    "import numpy as np\n",
    "import math\n",
    "import unicodedata\n",
    "import sympy\n",
    "from sympy import *\n",
    "\n",
    "x = np.arange(-np.pi,2*np.pi,0.1)\n",
    "ysin = np.sin(x)\n",
    "ycos = np.cos(x)\n",
    "pi = unicodedata.lookup(\"GREEK SMALL LETTER PI\")\n",
    "    \n",
    "def red_dot(Theta):\n",
    "    x1 = Theta\n",
    "    y1sin = np.sin(Theta)\n",
    "    y1cos = np.cos(Theta)\n",
    "    sin_vert = [Theta, Theta]\n",
    "    sin_vert2 = [0, y1sin]\n",
    "    sin_hoz = [Theta, 0]\n",
    "    sin_hoz2 = [y1sin, y1sin]\n",
    "    cos_vert = [Theta, Theta]\n",
    "    cos_vert2 = [0, y1cos]\n",
    "    cos_hoz = [Theta, 0]\n",
    "    cos_hoz2 = [y1cos, y1cos]\n",
    "    if y1cos < 0:\n",
    "        print('Cos value negative: left on real axis')\n",
    "    if y1sin < 0:\n",
    "        print('Sin value negative: down on imaginary axis')\n",
    "    if y1cos > 0:\n",
    "        print('Cos value positive: right on real axis')\n",
    "    if y1sin > 0:\n",
    "        print('Sin value positive: up on imaginary axis')\n",
    "    if y1sin == 0:\n",
    "        print('Sin value is 0: on real axis')\n",
    "    if y1cos == 0:\n",
    "        print('Cos value is 0: on imaginary axis')\n",
    "    plt.scatter(x1,y1sin, color='red')\n",
    "    plt.scatter(x1,y1cos, color='red')\n",
    "    plt.xlim([-np.pi,2*np.pi])\n",
    "    plt.ylim([-1.1,1.1])\n",
    "    plt.xticks([-np.pi, -np.pi/2, 0, np.pi/2, np.pi, 3*np.pi/2, 2*np.pi],\n",
    "          [r'$-\\pi$', r'$-\\pi/2$', r'$0$', r'$+\\pi/2$', r'$+\\pi$', r\"$+{3}\\pi/2$\", r\"$+{2}\\pi$\"])\n",
    "    plt.yticks([-1, 0, +1],\n",
    "          [r'$-1$', r'$0$', r'$+1$'])\n",
    "    plt.axhline(y=0,color='black')\n",
    "    plt.axvline(x=0, color='black')\n",
    "    plt.ylabel('Y')\n",
    "    plt.xlabel('Theta')\n",
    "    plt.plot(x,ysin, color='orange', label = 'sin')\n",
    "    plt.plot(x,ycos, color='blue', label = 'cos')\n",
    "    plt.legend()\n",
    "    plt.plot(sin_vert,sin_vert2, '--', color='orange')\n",
    "    plt.plot(sin_hoz,sin_hoz2, '--', color='orange')\n",
    "    plt.plot(cos_vert,cos_vert2, '--', color='blue')\n",
    "    plt.plot(cos_hoz,cos_hoz2, '--', color='blue')\n",
    "    plt.text(x1+0.1, y1sin+0.1, 'y = '\"{:.2f}\".format(y1sin), color = 'orange', fontsize='x-large')\n",
    "    plt.text(x1+0.1, y1cos-0.1, 'y = '\"{:.2f}\".format(y1cos), color = 'blue', fontsize='x-large')\n",
    "    plt.text(3.3, 0.5, 'Theta = '\"{:.2f}\".format(x1), fontsize='x-large')\n",
    "    plt.figure(figsize=(6,6))\n",
    "    x_vals = [0,y1cos]\n",
    "    y_vals = [0,y1sin]\n",
    "    dot_vals1 = [y1cos,y1cos]\n",
    "    dot_vals2 = [y1sin,y1sin]\n",
    "    plt.axhline(y=0,color='black')\n",
    "    plt.axvline(x=0, color='black')\n",
    "    plt.xlim([-1.1,1.1])\n",
    "    plt.ylim([-1.1,1.1])\n",
    "    plt.ylabel('Imaginary')\n",
    "    plt.xlabel('Real')\n",
    "    plt.scatter(y1cos,y1sin)\n",
    "    plt.plot(dot_vals1,y_vals, '--', color='orange', label = 'sin value')\n",
    "    plt.plot(x_vals,dot_vals2, '--', color='blue', label = 'cos value')\n",
    "    plt.plot(x_vals,y_vals)\n",
    "    complex_ = complex(y1cos,y1sin)\n",
    "    plt.text(1.5, 0.3, \"{:.2f}\".format(complex_), fontsize='x-large')\n",
    "    plt.text(1.5, 0.1, 'Real = '\"{:.2f}\".format(y1cos), color = 'blue', fontsize='x-large')\n",
    "    plt.text(1.5, -0.1, 'Imaginary = '\"{:.2f}\".format(y1sin), color = 'orange', fontsize='x-large')\n",
    "    plt.legend()\n",
    "    return plt.show()\n",
    "\n",
    "interact(red_dot, Theta=widgets.FloatSlider(min=-np.pi, max=2*np.pi, step=np.pi/8, value=0));"
   ]
  },
  {
   "cell_type": "code",
   "execution_count": null,
   "metadata": {},
   "outputs": [],
   "source": []
  },
  {
   "cell_type": "code",
   "execution_count": null,
   "metadata": {},
   "outputs": [],
   "source": []
  }
 ],
 "metadata": {
  "kernelspec": {
   "display_name": "Python 3 (ipykernel)",
   "language": "python",
   "name": "python3"
  },
  "language_info": {
   "codemirror_mode": {
    "name": "ipython",
    "version": 3
   },
   "file_extension": ".py",
   "mimetype": "text/x-python",
   "name": "python",
   "nbconvert_exporter": "python",
   "pygments_lexer": "ipython3",
   "version": "3.7.7"
  }
 },
 "nbformat": 4,
 "nbformat_minor": 4
}
