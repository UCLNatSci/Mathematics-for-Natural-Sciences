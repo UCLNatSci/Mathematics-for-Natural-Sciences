{
 "cells": [
  {
   "cell_type": "markdown",
   "metadata": {},
   "source": [
    "# ODEs with Python"
   ]
  },
  {
   "cell_type": "code",
   "execution_count": 13,
   "metadata": {
    "id": "qCghxTAtfgSG"
   },
   "outputs": [],
   "source": [
    "## preamble : This part loads the packages that we will use\n",
    "\n",
    "import numpy as np                   #for linspace\n",
    "from scipy.integrate import odeint   #for odeint\n",
    "import matplotlib.pyplot as plt      #for plotting"
   ]
  },
  {
   "cell_type": "markdown",
   "metadata": {},
   "source": [
    "We will use the \"odeinit\" package, which is designed to solve problems of the form\n",
    "\n",
    "$$\\frac{\\mathrm{d}X}{\\mathrm{d}t}=f(X,t,c)$$\n",
    "\n",
    "where $X$ is a list of dependent variables and c is a sequence of parameters. "
   ]
  },
  {
   "cell_type": "markdown",
   "metadata": {},
   "source": [
    "## Example 1: Exponential growth"
   ]
  },
  {
   "cell_type": "markdown",
   "metadata": {},
   "source": [
    "$$\\frac{\\mathrm{d}I}{\\mathrm{d}t}=\\mu(r_0-1)I$$"
   ]
  },
  {
   "cell_type": "markdown",
   "metadata": {},
   "source": [
    "The first step requires us to set up a function that returns the derivative for a given value of $I$, and parameters $\\mu,r_0$.\n",
    "\n",
    "In the code below, notice that $t$ appears as the second input argument even though it doesn't feature explicitly on the RHS of the equation. This is because the odeint solver expects a function pattern $f(X,t,c)$. "
   ]
  },
  {
   "cell_type": "code",
   "execution_count": 10,
   "metadata": {},
   "outputs": [],
   "source": [
    "# Model definition\n",
    "def dIdt(I,t,mu,r0):\n",
    "  return mu*(r0-1)*I"
   ]
  },
  {
   "cell_type": "markdown",
   "metadata": {},
   "source": [
    "You can test the definition, by plugging in some values of $\\mu,r_0,I$ and printing the result. You will have to supply a value for $t$ as well, but since there is no dependence on this variable it won't affect the result. I've taken $t=1$."
   ]
  },
  {
   "cell_type": "code",
   "execution_count": 11,
   "metadata": {},
   "outputs": [
    {
     "name": "stdout",
     "output_type": "stream",
     "text": [
      "0.2857142857142857\n"
     ]
    }
   ],
   "source": [
    "# Taking I=2, t=1, mu=1/14, r0=3:\n",
    "print(dIdt(2,1,1/14,3))"
   ]
  },
  {
   "cell_type": "markdown",
   "metadata": {},
   "source": [
    "Now we will use the function that we created to find a numeric estimate of the ODE solution between $t=0$ and $t=10$.\n",
    "\n",
    "Since we are using a numeric solver, we will need to provide an initial condition for $t(0)$. The numeric algorithm will then solve the equations of motion at discrete time steps, by treating the derivatives as constant over a small interval. We will split up the time domain into a list of equally spaced points by using the linspace function from the numpy package.\n",
    "\n",
    "\n",
    "This is an approximation, so it won't give a totally accurate result, but it will usually be a good estimate if the time steps are small enough. \n",
    "\n",
    "*Recall that the mathematical definition of the derivative actually requires bringing the points together, in the limit*"
   ]
  },
  {
   "cell_type": "code",
   "execution_count": 14,
   "metadata": {},
   "outputs": [
    {
     "data": {
      "image/png": "[encoded data removed]",
      "text/plain": [
       "<Figure size 432x288 with 1 Axes>"
      ]
     },
     "metadata": {
      "needs_background": "light"
     },
     "output_type": "display_data"
    }
   ],
   "source": [
    "I0 = 1                       # initial condition\n",
    "\n",
    "n,tmax = 401,10              # n is number of time points\n",
    "t = np.linspace(0,tmax,n)    # time points\n",
    "\n",
    "# solve ODE\n",
    "I = odeint(dIdt,I0,t,args=(1/14,3))\n",
    "\n",
    "# plot results\n",
    "plt.plot(t,I,'b-')\n",
    "plt.ylabel('I(t)')\n",
    "plt.xlabel('time')\n",
    "plt.show()"
   ]
  },
  {
   "cell_type": "markdown",
   "metadata": {},
   "source": [
    "## Example 2: Simple Harmonic Motion"
   ]
  },
  {
   "cell_type": "markdown",
   "metadata": {
    "id": "RUwR7xJTef1N"
   },
   "source": [
    "The SHM equation is \n",
    "\n",
    "$$\\ddot{x}=-\\frac{k}{m}x,$$\n",
    "\n",
    "where $k,m$ are parameters. The problem can be written in the required form by defining $y=\\dot{x}$ to give\n",
    "\n",
    "$$\\frac{\\mathrm{d}}{\\mathrm{d}t}\\left(\\begin{array}{c}x\\\\y\\end{array}\\right)=\\left(\\begin{array}{c}y\\\\-kx/m\\end{array}\\right)$$\n",
    "\n",
    "We will set up a function that returns this derivative for given values of $X=(x,y)$, and parameters $k,m$.\n",
    "\n",
    "Notice that we use $X[0],X[1]$ for $x,y$. \n",
    "\n",
    "This is because Python indexing starts from zero, so $X[0]$ is the first element obtained from the list $X=(x,y)$.\n"
   ]
  },
  {
   "cell_type": "code",
   "execution_count": 3,
   "metadata": {
    "id": "qh4FG_O632WR"
   },
   "outputs": [],
   "source": [
    "# Model definition\n",
    "def dXdt(X,t,k,m):\n",
    "  dxdt = X[1]          #dx/dt = y\n",
    "  dydt = -k*X[0]/m     #dy/dt=-k*x/m \n",
    "  return [dxdt, dydt]"
   ]
  },
  {
   "cell_type": "markdown",
   "metadata": {
    "id": "2NQyxwCGOmja"
   },
   "source": [
    "For example, suppose that the system starts from rest at $x(0)=1$, $\\dot{x}(0)=0$.\n",
    "\n",
    "\n",
    "Taking the constants to be $k=m=1$ gives the following result for $\\frac{\\mathrm{d}X}{\\mathrm{d}t}$ at time $t=0$:"
   ]
  },
  {
   "cell_type": "code",
   "execution_count": 4,
   "metadata": {
    "colab": {
     "base_uri": "https://localhost:8080/"
    },
    "id": "PiqX4DpCOnLj",
    "outputId": "556789bd-8a78-4bce-8d83-95930aac6dae"
   },
   "outputs": [
    {
     "name": "stdout",
     "output_type": "stream",
     "text": [
      "[0, -1.0]\n"
     ]
    }
   ],
   "source": [
    "t0,X0 =0,[1,0] #initial conditions for t,x,y\n",
    "k,m = 1,1\n",
    "X = dXdt(X0,t0,k,m)\n",
    "print(X)"
   ]
  },
  {
   "cell_type": "markdown",
   "metadata": {
    "id": "Zf9NeRInPeqY"
   },
   "source": [
    "Now we will use the function that we created to find a numeric estimate of the solution between $t=0$ and $t=100$. \n",
    "\n",
    "The odeint function will return the numeric estimates for $x,y$ at the corresponding time points, as columns in an array. \n",
    "\n",
    "We can access the first column by using $X[:,0]$ and the second column by using $X[:,1]$"
   ]
  },
  {
   "cell_type": "code",
   "execution_count": 5,
   "metadata": {
    "id": "gzssv0ERIgC0"
   },
   "outputs": [],
   "source": [
    "tmax,n=50,1000\n",
    "t = np.linspace(t0,tmax,n)    # time points\n",
    "\n",
    "# solve ODE\n",
    "X = odeint(dXdt,X0,t,args=(k,m))\n",
    "\n",
    "# plot results\n",
    "plt.plot(t,X[:,0],'b')\n",
    "plt.ylabel('x')\n",
    "plt.xlabel('time')\n",
    "plt.show()"
   ]
  },
  {
   "cell_type": "markdown",
   "metadata": {},
   "source": [
    "## Example 3: SHM with forcing"
   ]
  },
  {
   "cell_type": "markdown",
   "metadata": {
    "id": "0YnprJcVSeQv"
   },
   "source": [
    "Now let's see what happens if we add in a forcing term \n",
    "\n",
    "$$\\ddot{x}-\\frac{k}{m}x=F\\sin(\\Omega t),$$ \n",
    "\n",
    "where $F=1$, and $\\Omega=1.1$ :"
   ]
  },
  {
   "cell_type": "code",
   "execution_count": 12,
   "metadata": {
    "colab": {
     "base_uri": "https://localhost:8080/",
     "height": 279
    },
    "id": "wv-GlTcjS0vy",
    "outputId": "20bb293a-0e9e-4d5d-fe28-cb5d9b993d99"
   },
   "outputs": [
    {
     "data": {
      "image/png": "[encoded data removed]",
      "text/plain": [
       "<Figure size 432x288 with 1 Axes>"
      ]
     },
     "metadata": {
      "needs_background": "light"
     },
     "output_type": "display_data"
    }
   ],
   "source": [
    "# Re-define the model to include the forcing term\n",
    "def dXdt(X,t,k,m,F,W):\n",
    "  dxdt = X[1]                          #dx/dt = y\n",
    "  dydt = -k*X[0]/m + F*np.sin(W*t)     #dy/dt=-k*x/m + F*sin(W*t)\n",
    "  return [dxdt, dydt]\n",
    "\n",
    "t0,X0 =0,[1,0] #initial conditions for t,x,y\n",
    "k,m,F,W = 1,1,1,1.1\n",
    "\n",
    "tmax,n=200,1000\n",
    "t = np.linspace(t0,tmax,n)    # time points\n",
    "\n",
    "# solve ODE\n",
    "X = odeint(dXdt,X0,t,args=(k,m,F,W))\n",
    "\n",
    "# plot results\n",
    "plt.plot(t,X[:,0],'b')\n",
    "plt.ylabel('x')\n",
    "plt.xlabel('time')\n",
    "plt.show()"
   ]
  },
  {
   "cell_type": "markdown",
   "metadata": {
    "id": "QUE1nlf7T8Wu"
   },
   "source": [
    "Experiment with making $\\Omega$ closer to $1$. What happens?"
   ]
  },
  {
   "cell_type": "markdown",
   "metadata": {},
   "source": [
    "## Example 4 : The SIR model of infection"
   ]
  },
  {
   "cell_type": "markdown",
   "metadata": {},
   "source": [
    "In this model, $S$ represents people who are susceptible to catching an infection, $I$ represents people who already have the infection, and $R$ represents people who have recovered."
   ]
  },
  {
   "cell_type": "markdown",
   "metadata": {},
   "source": [
    "\\begin{align*}\n",
    "\\frac{\\mathrm{d}S}{\\mathrm{d}t}&=-\\beta \\frac{S I}{N}\\\\\n",
    "\\frac{\\mathrm{d}I}{\\mathrm{d}t}&=\\beta \\frac{S I}{N}-\\mu I\\\\\n",
    "\\frac{\\mathrm{d}R}{\\mathrm{d}t}&=\\mu I\n",
    "\\end{align*}"
   ]
  },
  {
   "cell_type": "markdown",
   "metadata": {},
   "source": [
    "We will solve the model between $t=0$ to $t=140$, taking $\\mu=1/14$, $\\beta=3/14$, $N=100$."
   ]
  },
  {
   "cell_type": "code",
   "execution_count": 15,
   "metadata": {},
   "outputs": [
    {
     "data": {
      "image/png": "[encoded data removed]",
      "text/plain": [
       "<Figure size 432x288 with 1 Axes>"
      ]
     },
     "metadata": {
      "needs_background": "light"
     },
     "output_type": "display_data"
    }
   ],
   "source": [
    "# Model definition\n",
    "def dXdt(X,t,mu,beta,N):\n",
    "  dSdt= -beta*X[0]*X[1]/N\n",
    "  dIdt= beta*X[0]*X[1]/N - mu*X[1]\n",
    "  dRdt= mu*X[1]\n",
    "  return [dSdt,dIdt,dRdt]\n",
    "\n",
    "pop = 100       # population size\n",
    "X0 = [pop,1,0]  # initial condition\n",
    "\n",
    "# solve ODE\n",
    "tmax,n = 140,401\n",
    "t = np.linspace(0,tmax,n)\n",
    "X = odeint(dXdt,X0,t,args=(1/14,3/14,pop))\n",
    "\n",
    "# plot results\n",
    "plt.plot(t,X[:,0],'b--',label='S(t)')\n",
    "plt.plot(t,X[:,1],'r--',label='I(t)')\n",
    "plt.plot(t,X[:,2],'k',label='R(t)')\n",
    "plt.ylabel('values')\n",
    "plt.xlabel('time')\n",
    "plt.legend(loc='best')\n",
    "plt.show()"
   ]
  }
 ],
 "metadata": {
  "colab": {
   "collapsed_sections": [],
   "name": "Simple Harmonic Motion.ipynb",
   "provenance": []
  },
  "kernelspec": {
   "display_name": "Python 3",
   "language": "python",
   "name": "python3"
  },
  "language_info": {
   "codemirror_mode": {
    "name": "ipython",
    "version": 3
   },
   "file_extension": ".py",
   "mimetype": "text/x-python",
   "name": "python",
   "nbconvert_exporter": "python",
   "pygments_lexer": "ipython3",
   "version": "3.8.8"
  }
 },
 "nbformat": 4,
 "nbformat_minor": 1
}
